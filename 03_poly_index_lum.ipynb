{
 "cells": [
  {
   "cell_type": "markdown",
   "metadata": {},
   "source": [
    "### <b> Index n of a polytrope when we have its luminosity </b>"
   ]
  },
  {
   "cell_type": "code",
   "execution_count": 1,
   "metadata": {},
   "outputs": [],
   "source": [
    "from polytrope_model import luminosity\n",
    "import numpy as np\n",
    "from scipy.optimize import bisect, root_scalar\n",
    "import matplotlib.pyplot as plt"
   ]
  },
  {
   "cell_type": "code",
   "execution_count": null,
   "metadata": {},
   "outputs": [],
   "source": [
    "def y(n, X_s, r_c, d_c, R, time, total_time, M, Z, L_sol, L):\n",
    "    lumin = luminosity(n, X_s, r_c, d_c, R, time, total_time, M, Z, L_sol)[-1]\n",
    "    y = np.log10(lumin/(L/L_sol)) \n",
    "    return y\n",
    "\n",
    "def index(f, a, b, M, L, Y, Z_X, R, L_sol, r_c, d_c, time, total_time):\n",
    "    X_s = (1-Y)/(1+Z_X)\n",
    "    Z = 1-Y-X_s \n",
    "    index = bisect(f, a, b, args=(X_s, r_c, d_c, R, time, total_time, M, Z, L_sol, L))\n",
    "    return index"
   ]
  },
  {
   "cell_type": "code",
   "execution_count": null,
   "metadata": {},
   "outputs": [],
   "source": []
  }
 ],
 "metadata": {
  "kernelspec": {
   "display_name": "machinelearning",
   "language": "python",
   "name": "python3"
  },
  "language_info": {
   "codemirror_mode": {
    "name": "ipython",
    "version": 3
   },
   "file_extension": ".py",
   "mimetype": "text/x-python",
   "name": "python",
   "nbconvert_exporter": "python",
   "pygments_lexer": "ipython3",
   "version": "3.12.7"
  }
 },
 "nbformat": 4,
 "nbformat_minor": 2
}

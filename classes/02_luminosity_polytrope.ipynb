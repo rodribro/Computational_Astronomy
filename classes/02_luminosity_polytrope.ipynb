{
 "cells": [
  {
   "cell_type": "markdown",
   "metadata": {},
   "source": [
    "### <b> Calculating the luminosity of a polytrope of index n </b>"
   ]
  },
  {
   "cell_type": "code",
   "execution_count": 1,
   "metadata": {},
   "outputs": [],
   "source": [
    "#from polytrope_model import lane_emden_sys, lane_emden_solver\n",
    "from scipy.integrate import cumulative_simpson, cumulative_trapezoid\n",
    "import matplotlib.pyplot as plt\n",
    "import numpy as np\n",
    "\n",
    "from polytrope_model import *"
   ]
  },
  {
   "cell_type": "code",
   "execution_count": 2,
   "metadata": {},
   "outputs": [],
   "source": [
    "# Chemical compostion (H and He)\n",
    "def chemical_composition(xi, X_s, r_c, d_c, R, time, total_time):\n",
    "\n",
    "    # Hidrogen\n",
    "    X_c = X_s - X_s * (time/total_time)\n",
    "    X = X_c + (X_s - X_c)/(1+np.exp((r_c-xi)/(R*d_c)))\n",
    "\n",
    "    return X"
   ]
  },
  {
   "cell_type": "code",
   "execution_count": 3,
   "metadata": {},
   "outputs": [],
   "source": [
    "# Thermodynamic functions (general and center)\n",
    "\n",
    "def density(M, R, n):\n",
    "    xi, y1, y2 = lane_emden_solver(n)\n",
    "    a_n = -xi[-1]/(3*y2[-1])\n",
    "    central_density = M/(4/3*np.pi*R**3) * a_n\n",
    "    density = central_density * y1**n\n",
    "\n",
    "    return density, central_density\n",
    "\n",
    "def pressure(M, R, n):\n",
    "    xi, y1, y2 = lane_emden_solver(n)\n",
    "    c_n = 1 / (4 * np.pi * (n+1) * y2[-1]**2)\n",
    "    central_pressure = (G*M**2)/R**4 * c_n\n",
    "    pressure = central_pressure * y1**(n+1)\n",
    "\n",
    "    return pressure, central_pressure\n",
    "\n",
    "def temperature(M, R, X, Z, n): # R_g = gas constant, G  (define both as global variables?)\n",
    "    xi, y1, y2 = lane_emden_solver(n)\n",
    "    mu = 4/(5*X-Z+3) # needs to come from chemical composition array \n",
    "    \n",
    "    b_n = 1 / (n+1) * xi[-1] * (-y2[-1])\n",
    "    central_temperature = mu*G*M/(R_g*R) * b_n\n",
    "    temperature = central_temperature *  y1\n",
    "\n",
    "    return temperature, central_temperature"
   ]
  },
  {
   "cell_type": "code",
   "execution_count": 4,
   "metadata": {},
   "outputs": [],
   "source": [
    "def emissivity(rho, T, X, Z):\n",
    "    T6 = T/1e6\n",
    "\n",
    "    T_og_length = len(T6) # original length of T6 array\n",
    "    T_new_length = 1 + int(np.argwhere(T6<1e-3)[0]) # the remaining values of T6 might cause numerically unstable values of emissivity \n",
    "    size_dif = T_og_length - T_new_length\n",
    "\n",
    "    # Update array sizes for emissivity calculations\n",
    "    T6 = T6[:T_new_length]\n",
    "    X = X[:T_new_length]\n",
    "    rho = rho[:T_new_length]\n",
    "\n",
    "    # Formula variables\n",
    "    alpha = 1.2e17*((1-X-Z)/(4*X))**2 * np.exp(-100*T6**(-1/3))\n",
    "    eps_0 = 2.38e6* X** 2 * rho* T6** (-2/3) * (1 + 0.0123*T6** (1/3) + 0.0109*T6** (2/3) + 0.00095*T6) * np.exp(-33.80*T6** (-1/3) + 0.27*rho** (1/2)* T6**(-3/2))\n",
    "    phi_alpha = 1-alpha + np.sqrt(alpha*(alpha+2))\n",
    "    F1 = (np.sqrt(alpha+2) - np.sqrt(alpha))/(np.sqrt(alpha+2) + 3*np.sqrt(alpha))\n",
    "    F2 = (1-F1)/(1+8.94e15 * (X/(4-3*X))* T6**(-1/6) * np.exp(-102.65*T6**(-1/3)))\n",
    "    F3 = 1-F1-F2\n",
    "\n",
    "    # Emissivity: proton-proton (e_pp), carbon-nitrogen-oxigen (e_cno)\n",
    "    e_pp = (eps_0/0.980) * phi_alpha * (0.980*F1 + 0.960*F2 + 0.721*F3)\n",
    "    e_cno = 8.67e27*Z*X*rho*T6** (-2/3) * (1 + 0.0027*T6** (1/3) - 0.00778*T6** (2/3) - 0.000149*T6) * np.exp(-152.28*T6**(-1/3))\n",
    "\n",
    "    # Fill the arrays back to their original sizes with zeros (further calculations using emissivity won't be affected)\n",
    "    zeros = np.zeros(size_dif)\n",
    "    e_pp = np.concatenate((e_pp, zeros))\n",
    "    e_cno = np.concatenate((e_cno, zeros))\n",
    "\n",
    "    # Total emissivity\n",
    "    e_total = e_pp + e_cno\n",
    "\n",
    "    return e_total, e_pp, e_cno"
   ]
  },
  {
   "cell_type": "code",
   "execution_count": 5,
   "metadata": {},
   "outputs": [],
   "source": [
    "def luminosity(n, X_s, r_c, d_c, R, time, total_time, M, Z,L_sol ):\n",
    "\n",
    "    # xi, theta(xi), theta'(xi)\n",
    "    xi, y1, y2 = lane_emden_solver(n)\n",
    "\n",
    "    # chemical composition X, Y\n",
    "    X = chemical_composition(xi, X_s, r_c, d_c, R, time, total_time)\n",
    "\n",
    "    # Thermodynamic functions (general and center)\n",
    "    rho, rho_c = density(M, R, n)\n",
    "    P, P_c = pressure(M, R, n)\n",
    "    T, T_c = temperature(M, R, X, Z, n)\n",
    "\n",
    "    # Emissivity\n",
    "    ems_tot, e_pp, e_cno = emissivity(rho, T, X, Z)\n",
    "\n",
    "    # Constant of the luminosity formula\n",
    "    const = -1/(xi[-1]**2 * y2[-1])\n",
    "\n",
    "    # Integrand of the luminosity formula\n",
    "    integrand = xi**2 * y1**n * M * ems_tot / L_sol\n",
    "    \n",
    "\n",
    "    # Cumulative integral\n",
    "    integral = cumulative_trapezoid(integrand, x=xi, initial=0)\n",
    "    return const * integral\n"
   ]
  },
  {
   "cell_type": "markdown",
   "metadata": {},
   "source": [
    "#### <b> Testing emissivity for Sun </b>"
   ]
  },
  {
   "cell_type": "code",
   "execution_count": 8,
   "metadata": {},
   "outputs": [
    {
     "data": {
      "text/plain": [
       "'\\nn_sol = 3.08692\\nX_s_sol = (1-Y_sol)/(1+Z_sol)\\nZ_sol = 1-Y_sol-X_s_sol\\nxi, y, z = lane_emden_solver(n_sol)\\nX_sol = chemical_composition(xi, X_s_sol, 0.2, 0.03, R_sol, 1, 2)\\nrho, rho_c = density(M_sol, R_sol, n_sol)\\nP, P_c = pressure(M_sol, R_sol, n_sol)\\nT, T_c = temperature(M_sol, R_sol, X_sol, Z_sol, n_sol)\\ne, epp, ecno = emissivity(rho, T, X_sol, Z_sol)\\n\\nsun_lum = luminosity(n_sol, X_s_sol, 0.2, 0.03, R_sol, 1, 2, M_sol, Z_sol, L_sol )\\n'"
      ]
     },
     "execution_count": 8,
     "metadata": {},
     "output_type": "execute_result"
    }
   ],
   "source": [
    "# Global\n",
    "G = 6.67408e-8 # gravitational constant\n",
    "R_g = 8.314511e7 # gas constant\n",
    "\n",
    "#Sun\n",
    "M_sol = 1.988475e33\n",
    "L_sol = 3.828e33\n",
    "R_sol = 6.957e10\n",
    "Z_sol = 0.02857\n",
    "Y_sol = 0.28\n",
    "total_time = 2*4.6*M_sol*(1/L_sol)\n",
    "\n",
    "'''\n",
    "n_sol = 3.08692\n",
    "X_s_sol = (1-Y_sol)/(1+Z_sol)\n",
    "Z_sol = 1-Y_sol-X_s_sol\n",
    "xi, y, z = lane_emden_solver(n_sol)\n",
    "X_sol = chemical_composition(xi, X_s_sol, 0.2, 0.03, R_sol, 1, 2)\n",
    "rho, rho_c = density(M_sol, R_sol, n_sol)\n",
    "P, P_c = pressure(M_sol, R_sol, n_sol)\n",
    "T, T_c = temperature(M_sol, R_sol, X_sol, Z_sol, n_sol)\n",
    "e, epp, ecno = emissivity(rho, T, X_sol, Z_sol)\n",
    "\n",
    "sun_lum = luminosity(n_sol, X_s_sol, 0.2, 0.03, R_sol, 1, 2, M_sol, Z_sol, L_sol )\n",
    "'''"
   ]
  },
  {
   "cell_type": "code",
   "execution_count": 9,
   "metadata": {},
   "outputs": [],
   "source": [
    "#Sol\n",
    "M_sol = 1.988475e33\n",
    "L_sol = 3.828e33\n",
    "R_sol = 6.957e10\n",
    "Z_sol = 0.02857\n",
    "Y_sol = 0.28\n",
    "\n",
    "#%%\n",
    "# Epsilon Eridani\n",
    "M_e = 0.82 * M_sol\n",
    "dM_e = 0.02 * M_sol\n",
    "R_e = 0.738 * R_sol\n",
    "dR_e= 0.0003 * R_sol\n",
    "L_e = 0.32 * L_sol\n",
    "dL_e = 0.01 * L_sol\n",
    "metal_e = -0.08\n",
    "dmetal_e = 0.01\n",
    "Z_e = Z_sol*10**metal_e\n",
    "Y_e = 0.2423\n",
    "dY_e = 0.0054\n",
    "total_time_e = 2*4.6*M_e*(1/L_e)\n",
    "\n",
    "\n",
    "# Theta Persei\n",
    "M_t = 1.138 * M_sol\n",
    "dM_t = 0.010 * M_sol\n",
    "R_t = 1.319 * R_sol\n",
    "dR_t = 0.011 * R_sol\n",
    "L_t = 2.235 * L_sol\n",
    "dL_t = 0.040 * L_sol\n",
    "metal_t = -0.03\n",
    "dmetal_t = 0.09\n",
    "Z_t = Z_e = Z_sol*10**metal_t\n",
    "Y_t = 0.2423\n",
    "dY_t = 0.0054\n",
    "total_time_t = 2*4.6*M_e*(1/L_t)"
   ]
  },
  {
   "cell_type": "code",
   "execution_count": null,
   "metadata": {},
   "outputs": [
    {
     "ename": "TypeError",
     "evalue": "'numpy.ndarray' object is not callable",
     "output_type": "error",
     "traceback": [
      "\u001b[0;31m---------------------------------------------------------------------------\u001b[0m",
      "\u001b[0;31mTypeError\u001b[0m                                 Traceback (most recent call last)",
      "Cell \u001b[0;32mIn[13], line 2\u001b[0m\n\u001b[1;32m      1\u001b[0m \u001b[38;5;66;03m# Indexes\u001b[39;00m\n\u001b[0;32m----> 2\u001b[0m poly_index_t \u001b[38;5;241m=\u001b[39m \u001b[43mindex\u001b[49m\u001b[43m(\u001b[49m\u001b[43my\u001b[49m\u001b[43m,\u001b[49m\u001b[43m \u001b[49m\u001b[38;5;241;43m2.5\u001b[39;49m\u001b[43m,\u001b[49m\u001b[43m \u001b[49m\u001b[38;5;241;43m4.5\u001b[39;49m\u001b[43m,\u001b[49m\u001b[43m \u001b[49m\u001b[43mM_t\u001b[49m\u001b[43m,\u001b[49m\u001b[43m \u001b[49m\u001b[43mL_t\u001b[49m\u001b[43m,\u001b[49m\u001b[43m \u001b[49m\u001b[43mY_t\u001b[49m\u001b[43m,\u001b[49m\u001b[43m \u001b[49m\u001b[43mZ_t\u001b[49m\u001b[43m,\u001b[49m\u001b[43m \u001b[49m\u001b[43mR_t\u001b[49m\u001b[43m,\u001b[49m\u001b[43m \u001b[49m\u001b[43mL_sol\u001b[49m\u001b[43m,\u001b[49m\u001b[43m \u001b[49m\u001b[38;5;241;43m0.2\u001b[39;49m\u001b[43m,\u001b[49m\u001b[43m \u001b[49m\u001b[38;5;241;43m0.03\u001b[39;49m\u001b[43m,\u001b[49m\u001b[43m \u001b[49m\u001b[43mtotal_time_t\u001b[49m\u001b[38;5;241;43m/\u001b[39;49m\u001b[38;5;241;43m3\u001b[39;49m\u001b[43m,\u001b[49m\u001b[43m \u001b[49m\u001b[43mtotal_time_t\u001b[49m\u001b[43m)\u001b[49m\n\u001b[1;32m      3\u001b[0m poly_index_e \u001b[38;5;241m=\u001b[39m index(y, \u001b[38;5;241m1.2\u001b[39m, \u001b[38;5;241m4.5\u001b[39m, M_e, L_e, Y_e, Z_e, R_e, L_sol, \u001b[38;5;241m0.2\u001b[39m, \u001b[38;5;241m0.03\u001b[39m, total_time_e\u001b[38;5;241m/\u001b[39m\u001b[38;5;241m2\u001b[39m, total_time_e)\n\u001b[1;32m      4\u001b[0m poly_index_sun \u001b[38;5;241m=\u001b[39m index(y, \u001b[38;5;241m1.5\u001b[39m, \u001b[38;5;241m4\u001b[39m, M_sol, L_sol, Y_sol, Z_sol, R_sol,  L_sol, \u001b[38;5;241m0.2\u001b[39m, \u001b[38;5;241m0.03\u001b[39m, \u001b[38;5;241m1\u001b[39m, \u001b[38;5;241m2\u001b[39m)\n",
      "File \u001b[0;32m~/Desktop/Computational_Astronomy/polytrope_model.py:178\u001b[0m, in \u001b[0;36mindex\u001b[0;34m(f, a, b, M, L, Y, Z_X, R, L_sol, r_c, d_c, time, total_time)\u001b[0m\n\u001b[1;32m    176\u001b[0m X_s \u001b[38;5;241m=\u001b[39m (\u001b[38;5;241m1\u001b[39m\u001b[38;5;241m-\u001b[39mY)\u001b[38;5;241m/\u001b[39m(\u001b[38;5;241m1\u001b[39m\u001b[38;5;241m+\u001b[39mZ_X)\n\u001b[1;32m    177\u001b[0m Z \u001b[38;5;241m=\u001b[39m \u001b[38;5;241m1\u001b[39m\u001b[38;5;241m-\u001b[39mY\u001b[38;5;241m-\u001b[39mX_s \n\u001b[0;32m--> 178\u001b[0m index \u001b[38;5;241m=\u001b[39m \u001b[43mbisect\u001b[49m\u001b[43m(\u001b[49m\u001b[43mf\u001b[49m\u001b[43m,\u001b[49m\u001b[43m \u001b[49m\u001b[43ma\u001b[49m\u001b[43m,\u001b[49m\u001b[43m \u001b[49m\u001b[43mb\u001b[49m\u001b[43m,\u001b[49m\u001b[43m \u001b[49m\u001b[43margs\u001b[49m\u001b[38;5;241;43m=\u001b[39;49m\u001b[43m(\u001b[49m\u001b[43mX_s\u001b[49m\u001b[43m,\u001b[49m\u001b[43m \u001b[49m\u001b[43mr_c\u001b[49m\u001b[43m,\u001b[49m\u001b[43m \u001b[49m\u001b[43md_c\u001b[49m\u001b[43m,\u001b[49m\u001b[43m \u001b[49m\u001b[43mR\u001b[49m\u001b[43m,\u001b[49m\u001b[43m \u001b[49m\u001b[43mtime\u001b[49m\u001b[43m,\u001b[49m\u001b[43m \u001b[49m\u001b[43mtotal_time\u001b[49m\u001b[43m,\u001b[49m\u001b[43m \u001b[49m\u001b[43mM\u001b[49m\u001b[43m,\u001b[49m\u001b[43m \u001b[49m\u001b[43mZ\u001b[49m\u001b[43m,\u001b[49m\u001b[43m \u001b[49m\u001b[43mL_sol\u001b[49m\u001b[43m,\u001b[49m\u001b[43m \u001b[49m\u001b[43mL\u001b[49m\u001b[43m)\u001b[49m\u001b[43m)\u001b[49m\n\u001b[1;32m    179\u001b[0m \u001b[38;5;28;01mreturn\u001b[39;00m index\n",
      "File \u001b[0;32m/opt/anaconda3/envs/machinelearning/lib/python3.12/site-packages/scipy/optimize/_zeros_py.py:577\u001b[0m, in \u001b[0;36mbisect\u001b[0;34m(f, a, b, args, xtol, rtol, maxiter, full_output, disp)\u001b[0m\n\u001b[1;32m    575\u001b[0m     \u001b[38;5;28;01mraise\u001b[39;00m \u001b[38;5;167;01mValueError\u001b[39;00m(\u001b[38;5;124mf\u001b[39m\u001b[38;5;124m\"\u001b[39m\u001b[38;5;124mrtol too small (\u001b[39m\u001b[38;5;132;01m{\u001b[39;00mrtol\u001b[38;5;132;01m:\u001b[39;00m\u001b[38;5;124mg\u001b[39m\u001b[38;5;132;01m}\u001b[39;00m\u001b[38;5;124m < \u001b[39m\u001b[38;5;132;01m{\u001b[39;00m_rtol\u001b[38;5;132;01m:\u001b[39;00m\u001b[38;5;124mg\u001b[39m\u001b[38;5;132;01m}\u001b[39;00m\u001b[38;5;124m)\u001b[39m\u001b[38;5;124m\"\u001b[39m)\n\u001b[1;32m    576\u001b[0m f \u001b[38;5;241m=\u001b[39m _wrap_nan_raise(f)\n\u001b[0;32m--> 577\u001b[0m r \u001b[38;5;241m=\u001b[39m \u001b[43m_zeros\u001b[49m\u001b[38;5;241;43m.\u001b[39;49m\u001b[43m_bisect\u001b[49m\u001b[43m(\u001b[49m\u001b[43mf\u001b[49m\u001b[43m,\u001b[49m\u001b[43m \u001b[49m\u001b[43ma\u001b[49m\u001b[43m,\u001b[49m\u001b[43m \u001b[49m\u001b[43mb\u001b[49m\u001b[43m,\u001b[49m\u001b[43m \u001b[49m\u001b[43mxtol\u001b[49m\u001b[43m,\u001b[49m\u001b[43m \u001b[49m\u001b[43mrtol\u001b[49m\u001b[43m,\u001b[49m\u001b[43m \u001b[49m\u001b[43mmaxiter\u001b[49m\u001b[43m,\u001b[49m\u001b[43m \u001b[49m\u001b[43margs\u001b[49m\u001b[43m,\u001b[49m\u001b[43m \u001b[49m\u001b[43mfull_output\u001b[49m\u001b[43m,\u001b[49m\u001b[43m \u001b[49m\u001b[43mdisp\u001b[49m\u001b[43m)\u001b[49m\n\u001b[1;32m    578\u001b[0m \u001b[38;5;28;01mreturn\u001b[39;00m results_c(full_output, r, \u001b[38;5;124m\"\u001b[39m\u001b[38;5;124mbisect\u001b[39m\u001b[38;5;124m\"\u001b[39m)\n",
      "File \u001b[0;32m/opt/anaconda3/envs/machinelearning/lib/python3.12/site-packages/scipy/optimize/_zeros_py.py:94\u001b[0m, in \u001b[0;36m_wrap_nan_raise.<locals>.f_raise\u001b[0;34m(x, *args)\u001b[0m\n\u001b[1;32m     93\u001b[0m \u001b[38;5;28;01mdef\u001b[39;00m \u001b[38;5;21mf_raise\u001b[39m(x, \u001b[38;5;241m*\u001b[39margs):\n\u001b[0;32m---> 94\u001b[0m     fx \u001b[38;5;241m=\u001b[39m \u001b[43mf\u001b[49m\u001b[43m(\u001b[49m\u001b[43mx\u001b[49m\u001b[43m,\u001b[49m\u001b[43m \u001b[49m\u001b[38;5;241;43m*\u001b[39;49m\u001b[43margs\u001b[49m\u001b[43m)\u001b[49m\n\u001b[1;32m     95\u001b[0m     f_raise\u001b[38;5;241m.\u001b[39m_function_calls \u001b[38;5;241m+\u001b[39m\u001b[38;5;241m=\u001b[39m \u001b[38;5;241m1\u001b[39m\n\u001b[1;32m     96\u001b[0m     \u001b[38;5;28;01mif\u001b[39;00m np\u001b[38;5;241m.\u001b[39misnan(fx):\n",
      "\u001b[0;31mTypeError\u001b[0m: 'numpy.ndarray' object is not callable"
     ]
    }
   ],
   "source": [
    "# Indexes\n",
    "poly_index_t = index(y, 2.5, 4.5, M_t, L_t, Y_t, Z_t, R_t, L_sol, 0.2, 0.03, total_time_t/3, total_time_t)\n",
    "poly_index_e = index(y, 1.2, 4.5, M_e, L_e, Y_e, Z_e, R_e, L_sol, 0.2, 0.03, total_time_e/2, total_time_e)\n",
    "poly_index_sun = index(y, 1.5, 4, M_sol, L_sol, Y_sol, Z_sol, R_sol,  L_sol, 0.2, 0.03, 1, 2)\n",
    "\n",
    "# Theta\n",
    "Xs_t = (1-Y_t)/(1+Z_t)\n",
    "Z = 1-Y_t-Xs_t\n",
    "x_t, y, z = lane_emden_solver(poly_index_t)\n",
    "X_t = chemical_composition(x_t, Xs_t, 0.2, 0.03, total_time_t/2, total_time_t)\n",
    "\n",
    "# Epsilon\n",
    "Xs_e = (1-Y_e)/(1+Z_e)\n",
    "Z = 1-Y_e-Xs_e\n",
    "x_e, y, z = lane_emden_solver(poly_index_e)\n",
    "X_e = chemical_composition(x_e, Xs_e, 0.2, 0.03, total_time_e/2, total_time_e)\n",
    "\n",
    "# Sun\n",
    "Xs_sun = (1-Y_sol)/(1+Z_sol)\n",
    "Z = 1-Y_sol-Xs_sun\n",
    "x_sol, y, z = lane_emden_solver(poly_index_sun)\n",
    "X_sun = chemical_composition(x_sol, Xs_sun, 0.2, 0.03, 1, 2)"
   ]
  },
  {
   "cell_type": "code",
   "execution_count": null,
   "metadata": {},
   "outputs": [
    {
     "ename": "NameError",
     "evalue": "name 'density' is not defined",
     "output_type": "error",
     "traceback": [
      "\u001b[0;31m---------------------------------------------------------------------------\u001b[0m",
      "\u001b[0;31mNameError\u001b[0m                                 Traceback (most recent call last)",
      "Cell \u001b[0;32mIn[10], line 2\u001b[0m\n\u001b[1;32m      1\u001b[0m \u001b[38;5;66;03m# Density\u001b[39;00m\n\u001b[0;32m----> 2\u001b[0m rho_e \u001b[38;5;241m=\u001b[39m \u001b[43mdensity\u001b[49m(M_e, R_e, poly_index_e)\n\u001b[1;32m      3\u001b[0m rho_t \u001b[38;5;241m=\u001b[39m density(M_t, R_t, poly_index_t)\n\u001b[1;32m      4\u001b[0m rho_sun \u001b[38;5;241m=\u001b[39m density(M_sol, R_sol, poly_index_sun)\n",
      "\u001b[0;31mNameError\u001b[0m: name 'density' is not defined"
     ]
    }
   ],
   "source": [
    "# Thermodynamic\n",
    "rho_sun, P_sun, T_sun = rho_P_T(poly_index_sun, R_sol, M_sol, X_sol, Z_sol)\n",
    "rho_e, P_e, T_e = rho_P_T(poly_index_e, R_e, M_e, X_e, Z_e)\n",
    "rho_t, P_t, T_t = rho_P_T(poly_index_t, R_t, M_t, X_t, Z_t)\n",
    "\n",
    "def thermo_plots(xi, rho_sun, rho_e, rho_t):\n",
    "    plt.plot(xi, rho_sun, color='red', label='Sun')\n",
    "    plt.plot(xi, rho_e, color = 'yellow', label='Epsilon Eridani')\n",
    "    plt.plot(xi, rho_t, color = 'blue', label=r'$\\theta Persei A$')\n",
    "    plt.show()"
   ]
  },
  {
   "cell_type": "code",
   "execution_count": 3,
   "metadata": {},
   "outputs": [],
   "source": [
    "# Temperature"
   ]
  },
  {
   "cell_type": "code",
   "execution_count": 5,
   "metadata": {},
   "outputs": [],
   "source": [
    "# Pressure"
   ]
  },
  {
   "cell_type": "code",
   "execution_count": 4,
   "metadata": {},
   "outputs": [],
   "source": [
    "# Emi CNO"
   ]
  },
  {
   "cell_type": "code",
   "execution_count": 2,
   "metadata": {},
   "outputs": [],
   "source": [
    "# Emi PP"
   ]
  },
  {
   "cell_type": "code",
   "execution_count": null,
   "metadata": {},
   "outputs": [],
   "source": []
  }
 ],
 "metadata": {
  "kernelspec": {
   "display_name": "machinelearning",
   "language": "python",
   "name": "python3"
  },
  "language_info": {
   "codemirror_mode": {
    "name": "ipython",
    "version": 3
   },
   "file_extension": ".py",
   "mimetype": "text/x-python",
   "name": "python",
   "nbconvert_exporter": "python",
   "pygments_lexer": "ipython3",
   "version": "3.12.7"
  }
 },
 "nbformat": 4,
 "nbformat_minor": 2
}

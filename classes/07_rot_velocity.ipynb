{
 "cells": [
  {
   "cell_type": "code",
   "execution_count": 203,
   "metadata": {},
   "outputs": [],
   "source": [
    "import matplotlib.pyplot as plt\n",
    "import numpy as np\n",
    "from scipy.optimize import curve_fit"
   ]
  },
  {
   "cell_type": "code",
   "execution_count": 204,
   "metadata": {},
   "outputs": [
    {
     "name": "stdout",
     "output_type": "stream",
     "text": [
      "['lambda', 'EP', 'log_gf', 'ele', 'W', 'mult']\n",
      "['4523.4', '3.65', '-1.871', 'FeI ', '44.2', '829']\n",
      "['4537.67', '3.27', '-2.87', 'FeI ', '17.4', '594']\n",
      "['4551.65', '3.94', '-1.928', 'FeI ', '29.1', '972']\n",
      "['4556.93', '3.25', '-2.644', 'FeI ', '26.3', '638']\n",
      "['4566.52', '3.3', '-2.156', 'FeI ', '46.2', '641']\n",
      "['4574.22', '3.21', '-2.353', 'FeI ', '41', '554']\n",
      "['4593.53', '3.94', '-1.921', 'FeI ', '29.5', '971']\n",
      "['4596.41', '3.65', '-2.09', 'FeI ', '34.1', '823']\n",
      "['4602.00', '1.61', '-3.163', 'FeI ', '72.2', '39']\n",
      "['4630.12', '2.28', '-2.488', 'FeI ', '74.3', ' 115']\n",
      "['4631.49', '4.55', '-1.89', 'FeI ', '11.6', '1152']\n",
      "['4661.54', '4.56', '-1.186', 'FeI ', '38.5', '1207']\n",
      "['4690.14', '3.69', '-1.55', 'FeI ', '58.8', '820']\n",
      "['4802.88', '3.69', '-1.527', 'FeI ', '60.4', '888']\n",
      "['4808.15', '3.25', '-2.63', 'FeI ', '27.7', ' 633']\n",
      "['4809.94', '3.57', '-2.542', 'FeI ', '19.4', '793']\n",
      "['4811.05', '3.07', '-3.182', 'FeI ', '14.5', '467']\n",
      "['4885.43', '3.88', '-1.136', 'FeI ', '72.5', '966']\n",
      "['4961.92', '3.63', '-2.301', 'FeI ', '26.7', '845']\n",
      "['5127.36', '0.92', '-3.317', 'FeI ', '99.4', '16']\n",
      "['5141.74', '2.42', '-2.125', 'FeI ', '89.3', '114']\n",
      "['5223.19', '3.63', '-2.252', 'FeI ', '29.4', '880']\n",
      "['5228.38', '4.22', '-1.095', 'FeI ', '60', '1091']\n",
      "['5242.5', '3.63', '-1.124', 'FeI ', '86.7', '843']\n",
      "['5243.78', '4.26', '-1.022', 'FeI ', '62.2', '1089']\n",
      "['5247.06', '0.09', '-4.941', 'FeI ', '66.4', '1']\n",
      "['5294.55', '3.64', '-2.627', 'FeI ', '15.5', '875']\n",
      "['5295.32', '4.42', '-1.518', 'FeI ', '29.3', '1146']\n",
      "['5376.83', '4.29', '-2.04', 'FeI ', '14.7', '1132']\n",
      "['5379.58', '3.69', '-1.552', 'FeI ', '61.2', '928']\n",
      "['5386.34', '4.15', '-1.709', 'FeI ', '32.1', '1064']\n",
      "['5389.48', '4.42', '-0.534', 'FeI ', '84.6', '1145']\n",
      "['5398.28', '4.45', '-0.684', 'FeI ', '73.3', '1145']\n",
      "['5409.14', '4.37', '-1.051', 'FeI ', '55.7', '1147']\n",
      "['5432.95', '4.45', '-0.729', 'FeI ', '70.6', '1143']\n",
      "['5436.3', '4.39', '-1.319', 'FeI ', '40.5', '1161']\n",
      "['5464.28', '4.14', '-1.595', 'FeI ', '38.2', '1030']\n",
      "['5473.17', '4.19', '-1.986', 'FeI ', '19.5', '1064']\n",
      "['5522.45', '4.21', '-1.419', 'FeI ', '44', '1108']\n",
      "['5543.94', '4.22', '-1.07', 'FeI ', '62.2', '1062']\n",
      "['5546.51', '4.37', '-1.124', 'FeI ', '52', '1145']\n",
      "['5560.22', '4.43', '-1.064', 'FeI ', '52.4', '1164']\n",
      "['5584.77', '3.57', '-2.189', 'FeI ', '35.8', '782']\n",
      "['5618.64', '4.21', '-1.298', 'FeI ', '50.5', '1107']\n",
      "['5619.6', '4.39', '-1.435', 'FeI ', '35', '1161']\n",
      "['5633.95', '4.99', '-0.385', 'FeI ', '66.5', '1314']\n",
      "['5636.7', '3.64', '-2.511', 'FeI ', '19.8', '868']\n",
      "['5638.27', '4.22', '-0.809', 'FeI ', '77.6', '1087']\n",
      "['5649.99', '5.1', '-0.785', 'FeI ', '36.2', '1314']\n",
      "['5651.47', '4.47', '-1.763', 'FeI ', '18.4', '1161']\n",
      "['5653.87', '4.39', '-1.402', 'FeI ', '36.7', '1159']\n",
      "['5679.03', '4.65', '-0.756', 'FeI ', '59.5', '1183']\n",
      "['5680.24', '4.19', '-2.33', 'FeI ', '10.3', '1026']\n",
      "['5715.09', '4.28', '-0.847', 'FeI ', '72.5', '1086']\n",
      "['5720.9', '4.55', '-1.805', 'FeI ', '14.9', ' 1178']\n",
      "['5738.24', '4.22', '-2.164', 'FeI ', '13.6', '1084']\n",
      "['5775.08', '4.22', '-1.124', 'FeI ', '59.8', '1087']\n",
      "['5793.92', '4.22', '-1.622', 'FeI ', '34', '1086']\n",
      "['5811.92', '4.14', '-2.333', 'FeI ', '11.4', '1022']\n",
      "['5814.81', '4.28', '-1.82', 'FeI ', '23', '1086']\n",
      "['5815.22', '4.15', '-2.364', 'FeI ', '10.5', '1055']\n",
      "['5853.15', '1.49', '-5.13', 'FeI ', '7.5', '35']\n",
      "['5855.08', '4.61', '-1.531', 'FeI ', '22.3', '1179']\n",
      "['5862.36', '4.55', '-0.404', 'FeI ', '87.6', '1180']\n",
      "['5902.48', '4.59', '-1.797', 'FeI ', '14.2', '1234']\n",
      "['5905.68', '4.65', '-0.775', 'FeI ', '58.7', '1181']\n",
      "['5927.79', '4.65', '-1.057', 'FeI ', '42.9', ' 1175']\n",
      "['5929.68', '4.55', '-1.211', 'FeI ', '39.5', '1176']\n",
      "['5930.19', '4.65', '-0.326', 'FeI ', '87.9', '1180']\n",
      "['5934.66', '3.93', '-1.091', 'FeI ', '76.4', '982']\n",
      "['5956.7', '0.86', '-4.526', 'FeI ', '53.7', '14']\n",
      "['5983.69', '4.55', '-0.719', 'FeI ', '67.2', ' 1175']\n",
      "['5987.07', '4.79', '-0.478', 'FeI ', '70.2', '1260']\n",
      "['6005.55', '2.59', '-3.479', 'FeI ', '22.4', '207']\n",
      "['6024.06', '4.55', '-0.124', 'FeI ', '110.5', ' 1178']\n",
      "['6056.01', '4.73', '-0.489', 'FeI ', '72.6', '1259']\n",
      "['6078.49', '4.79', '-0.364', 'FeI ', '77.9', '1259']\n",
      "['6079.01', '4.65', '-1.008', 'FeI ', '45.8', ' 1176']\n",
      "['6089.57', '4.58', '-1.273', 'FeI ', '35.3', '1327']\n",
      "['6094.38', '4.65', '-1.566', 'FeI ', '19.9', '1177']\n",
      "['6096.67', '3.98', '-1.776', 'FeI ', '38.2', '959']\n",
      "['6120.25', '0.92', '-5.894', 'FeI ', '5.2', '14']\n",
      "['6127.91', '4.14', '-1.417', 'FeI ', '48.9', '1017']\n",
      "['6151.62', '2.18', '-3.298', 'FeI ', '49.7', '62']\n",
      "['6157.73', '4.08', '-1.238', 'FeI ', '61.5', '1015']\n",
      "['6159.38', '4.61', '-1.878', 'FeI ', '11.9', '1175']\n",
      "['6173.34', '2.22', '-2.877', 'FeI ', '68', '62']\n",
      "['6200.32', '2.61', '-2.397', 'FeI ', '73', '207']\n",
      "['6219.29', '2.2', '-2.463', 'FeI ', '89.6', '62']\n",
      "['6226.74', '3.88', '-2.069', 'FeI ', '29.2', '981']\n",
      "['6232.65', '3.65', '-1.24', 'FeI ', '83.3', '816']\n",
      "['6240.65', '2.22', '-3.292', 'FeI ', '48.3', '64']\n",
      "['6270.23', '2.86', '-2.573', 'FeI ', '52.8', '342']\n",
      "['6315.81', '4.08', '-1.645', 'FeI ', '40.5', '1014']\n",
      "['6322.69', '2.59', '-2.368', 'FeI ', '76', '207']\n",
      "['6335.34', '2.2', '-2.339', 'FeI ', '97.2', '62']\n",
      "['6358.68', '0.86', '-3.907', 'FeI ', '84.4', '13']\n",
      "['6392.54', '2.28', '-3.942', 'FeI ', '17.8', '109']\n",
      "['6481.88', '2.28', '-2.929', 'FeI ', '64.1', '109']\n",
      "['6593.88', '2.43', '-2.384', 'FeI ', '84.6', '168']\n",
      "['6609.12', '2.56', '-2.632', 'FeI ', '65.7', '206']\n",
      "['6627.55', '4.55', '-1.475', 'FeI ', '28.2', '1174']\n",
      "['6646.94', '2.61', '-3.915', 'FeI ', '10.3', '206']\n",
      "['6699.15', '4.59', '-2.106', 'FeI ', '8.2', '1228']\n",
      "['6705.11', '4.61', '-1.057', 'FeI ', '46.5', '1197']\n",
      "['6710.32', '1.49', '-4.81', 'FeI ', '15.9', '34']\n",
      "['6713.74', '4.79', '-1.425', 'FeI ', '21.2', '1255']\n",
      "['6725.36', '4.1', '-2.187', 'FeI ', '17.6', '1052']\n",
      "['6726.67', '4.61', '-1.045', 'FeI ', '47.2', '1197']\n",
      "['6732.07', '4.58', '-2.144', 'FeI ', '7.7', '1225']\n",
      "['6739.52', '1.56', '-4.902', 'FeI ', '11.7', '34']\n",
      "['6745.97', '4.08', '-2.657', 'FeI ', '7.2', '1005']\n",
      "['6839.84', '2.56', '-3.377', 'FeI ', '29.9', '205']\n",
      "['6842.69', '4.64', '-1.169', 'FeI ', '39.3', '1197']\n",
      "['6855.72', '4.61', '-1.674', 'FeI ', '18.6', '1194']\n",
      "['6857.25', '4.08', '-2.075', 'FeI ', '22.4', '1006']\n",
      "['6858.15', '4.61', '-0.972', 'FeI ', '51.6', '1173']\n",
      "['6861.94', '2.42', '-3.795', 'FeI ', '18.9', '109']\n",
      "['6864.32', '4.56', '-2.229', 'FeI ', '6.8', '1186']\n",
      "['4508.28', '2.86', '-2.403', 'FeII', '87.3', '38']\n",
      "['4520.22', '2.81', '-2.563', 'FeII', '81.9', '37']\n",
      "['4576.34', '2.84', '-2.947', 'FeII', '64.9', '38']\n",
      "['4656.98', '2.89', '-3.676', 'FeII', '33.8', '43']\n",
      "['4731.47', '2.89', '-2.515', 'FeII', '82.1', '43']\n",
      "['4923.93', '2.89', '-1.541', 'FeII', '154.3', '42']\n",
      "['5197.57', '3.23', '-2.293', 'FeII', '80.1', '49']\n",
      "['5234.63', '3.22', '-2.235', 'FeII', '83.5', '49']\n",
      "['5264.81', '3.23', '-3.091', 'FeII', '45.6', '48']\n",
      "['5337.75', '3.23', '-3.338', 'FeII', '35.5', '48']\n",
      "['5414.07', '3.22', '-3.568', 'FeII', '26.9', '48']\n",
      "['5991.38', '3.15', '-3.539', 'FeII', '31.2', '48']\n",
      "['6149.25', '3.89', '-2.719', 'FeII', '36.2', '74']\n",
      "['6247.56', '3.89', '-2.347', 'FeII', '52.2', '74']\n",
      "['6442.97', '5.55', '-2.399', 'FeII', '5.1', '0']\n",
      "['6456.39', '3.9', '-2.11', 'FeII', '63', '74']\n",
      "['6516.09', '2.89', '-3.279', 'FeII', '54.2', '40']\n"
     ]
    }
   ],
   "source": [
    "import csv\n",
    "with open('../Project2/Dados_Trab2/line_list_tsantaki2.csv', mode ='r')as file:\n",
    "  csvFile = csv.reader(file)\n",
    "  for lines in csvFile:\n",
    "        print(lines)"
   ]
  },
  {
   "cell_type": "code",
   "execution_count": 205,
   "metadata": {},
   "outputs": [],
   "source": [
    "import pandas as pd\n",
    "\n",
    "dataframe = pd.read_csv('../Project2/Dados_Trab2/line_list_tsantaki2.csv')"
   ]
  },
  {
   "cell_type": "code",
   "execution_count": 206,
   "metadata": {},
   "outputs": [
    {
     "data": {
      "text/html": [
       "<div>\n",
       "<style scoped>\n",
       "    .dataframe tbody tr th:only-of-type {\n",
       "        vertical-align: middle;\n",
       "    }\n",
       "\n",
       "    .dataframe tbody tr th {\n",
       "        vertical-align: top;\n",
       "    }\n",
       "\n",
       "    .dataframe thead th {\n",
       "        text-align: right;\n",
       "    }\n",
       "</style>\n",
       "<table border=\"1\" class=\"dataframe\">\n",
       "  <thead>\n",
       "    <tr style=\"text-align: right;\">\n",
       "      <th></th>\n",
       "      <th>lambda</th>\n",
       "      <th>EP</th>\n",
       "      <th>log_gf</th>\n",
       "      <th>W</th>\n",
       "      <th>mult</th>\n",
       "    </tr>\n",
       "  </thead>\n",
       "  <tbody>\n",
       "    <tr>\n",
       "      <th>count</th>\n",
       "      <td>136.000000</td>\n",
       "      <td>136.000000</td>\n",
       "      <td>136.000000</td>\n",
       "      <td>136.000000</td>\n",
       "      <td>136.000000</td>\n",
       "    </tr>\n",
       "    <tr>\n",
       "      <th>mean</th>\n",
       "      <td>5732.017426</td>\n",
       "      <td>3.659853</td>\n",
       "      <td>-2.062868</td>\n",
       "      <td>46.316176</td>\n",
       "      <td>740.985294</td>\n",
       "    </tr>\n",
       "    <tr>\n",
       "      <th>std</th>\n",
       "      <td>680.977007</td>\n",
       "      <td>1.038007</td>\n",
       "      <td>1.085812</td>\n",
       "      <td>27.289507</td>\n",
       "      <td>482.271016</td>\n",
       "    </tr>\n",
       "    <tr>\n",
       "      <th>min</th>\n",
       "      <td>4508.280000</td>\n",
       "      <td>0.090000</td>\n",
       "      <td>-5.894000</td>\n",
       "      <td>5.100000</td>\n",
       "      <td>0.000000</td>\n",
       "    </tr>\n",
       "    <tr>\n",
       "      <th>25%</th>\n",
       "      <td>5260.372500</td>\n",
       "      <td>3.025000</td>\n",
       "      <td>-2.565500</td>\n",
       "      <td>22.400000</td>\n",
       "      <td>112.750000</td>\n",
       "    </tr>\n",
       "    <tr>\n",
       "      <th>50%</th>\n",
       "      <td>5784.500000</td>\n",
       "      <td>4.030000</td>\n",
       "      <td>-2.013000</td>\n",
       "      <td>43.450000</td>\n",
       "      <td>981.500000</td>\n",
       "    </tr>\n",
       "    <tr>\n",
       "      <th>75%</th>\n",
       "      <td>6221.152500</td>\n",
       "      <td>4.455000</td>\n",
       "      <td>-1.231250</td>\n",
       "      <td>66.425000</td>\n",
       "      <td>1161.000000</td>\n",
       "    </tr>\n",
       "    <tr>\n",
       "      <th>max</th>\n",
       "      <td>6864.320000</td>\n",
       "      <td>5.550000</td>\n",
       "      <td>-0.124000</td>\n",
       "      <td>154.300000</td>\n",
       "      <td>1327.000000</td>\n",
       "    </tr>\n",
       "  </tbody>\n",
       "</table>\n",
       "</div>"
      ],
      "text/plain": [
       "            lambda          EP      log_gf           W         mult\n",
       "count   136.000000  136.000000  136.000000  136.000000   136.000000\n",
       "mean   5732.017426    3.659853   -2.062868   46.316176   740.985294\n",
       "std     680.977007    1.038007    1.085812   27.289507   482.271016\n",
       "min    4508.280000    0.090000   -5.894000    5.100000     0.000000\n",
       "25%    5260.372500    3.025000   -2.565500   22.400000   112.750000\n",
       "50%    5784.500000    4.030000   -2.013000   43.450000   981.500000\n",
       "75%    6221.152500    4.455000   -1.231250   66.425000  1161.000000\n",
       "max    6864.320000    5.550000   -0.124000  154.300000  1327.000000"
      ]
     },
     "execution_count": 206,
     "metadata": {},
     "output_type": "execute_result"
    }
   ],
   "source": [
    "dataframe.describe()"
   ]
  },
  {
   "cell_type": "code",
   "execution_count": 207,
   "metadata": {},
   "outputs": [
    {
     "name": "stdout",
     "output_type": "stream",
     "text": [
      "<class 'pandas.core.frame.DataFrame'>\n",
      "RangeIndex: 136 entries, 0 to 135\n",
      "Data columns (total 6 columns):\n",
      " #   Column  Non-Null Count  Dtype  \n",
      "---  ------  --------------  -----  \n",
      " 0   lambda  136 non-null    float64\n",
      " 1   EP      136 non-null    float64\n",
      " 2   log_gf  136 non-null    float64\n",
      " 3   ele     136 non-null    object \n",
      " 4   W       136 non-null    float64\n",
      " 5   mult    136 non-null    int64  \n",
      "dtypes: float64(4), int64(1), object(1)\n",
      "memory usage: 6.5+ KB\n"
     ]
    }
   ],
   "source": [
    "dataframe.info()"
   ]
  },
  {
   "cell_type": "code",
   "execution_count": 208,
   "metadata": {},
   "outputs": [
    {
     "data": {
      "text/html": [
       "<div>\n",
       "<style scoped>\n",
       "    .dataframe tbody tr th:only-of-type {\n",
       "        vertical-align: middle;\n",
       "    }\n",
       "\n",
       "    .dataframe tbody tr th {\n",
       "        vertical-align: top;\n",
       "    }\n",
       "\n",
       "    .dataframe thead th {\n",
       "        text-align: right;\n",
       "    }\n",
       "</style>\n",
       "<table border=\"1\" class=\"dataframe\">\n",
       "  <thead>\n",
       "    <tr style=\"text-align: right;\">\n",
       "      <th></th>\n",
       "      <th>lambda</th>\n",
       "      <th>EP</th>\n",
       "      <th>log_gf</th>\n",
       "      <th>ele</th>\n",
       "      <th>W</th>\n",
       "      <th>mult</th>\n",
       "    </tr>\n",
       "  </thead>\n",
       "  <tbody>\n",
       "    <tr>\n",
       "      <th>0</th>\n",
       "      <td>4523.40</td>\n",
       "      <td>3.65</td>\n",
       "      <td>-1.871</td>\n",
       "      <td>FeI</td>\n",
       "      <td>44.2</td>\n",
       "      <td>829</td>\n",
       "    </tr>\n",
       "    <tr>\n",
       "      <th>1</th>\n",
       "      <td>4537.67</td>\n",
       "      <td>3.27</td>\n",
       "      <td>-2.870</td>\n",
       "      <td>FeI</td>\n",
       "      <td>17.4</td>\n",
       "      <td>594</td>\n",
       "    </tr>\n",
       "    <tr>\n",
       "      <th>2</th>\n",
       "      <td>4551.65</td>\n",
       "      <td>3.94</td>\n",
       "      <td>-1.928</td>\n",
       "      <td>FeI</td>\n",
       "      <td>29.1</td>\n",
       "      <td>972</td>\n",
       "    </tr>\n",
       "    <tr>\n",
       "      <th>3</th>\n",
       "      <td>4556.93</td>\n",
       "      <td>3.25</td>\n",
       "      <td>-2.644</td>\n",
       "      <td>FeI</td>\n",
       "      <td>26.3</td>\n",
       "      <td>638</td>\n",
       "    </tr>\n",
       "    <tr>\n",
       "      <th>4</th>\n",
       "      <td>4566.52</td>\n",
       "      <td>3.30</td>\n",
       "      <td>-2.156</td>\n",
       "      <td>FeI</td>\n",
       "      <td>46.2</td>\n",
       "      <td>641</td>\n",
       "    </tr>\n",
       "  </tbody>\n",
       "</table>\n",
       "</div>"
      ],
      "text/plain": [
       "    lambda    EP  log_gf   ele     W  mult\n",
       "0  4523.40  3.65  -1.871  FeI   44.2   829\n",
       "1  4537.67  3.27  -2.870  FeI   17.4   594\n",
       "2  4551.65  3.94  -1.928  FeI   29.1   972\n",
       "3  4556.93  3.25  -2.644  FeI   26.3   638\n",
       "4  4566.52  3.30  -2.156  FeI   46.2   641"
      ]
     },
     "execution_count": 208,
     "metadata": {},
     "output_type": "execute_result"
    }
   ],
   "source": [
    "dataframe.head()"
   ]
  },
  {
   "cell_type": "code",
   "execution_count": 209,
   "metadata": {},
   "outputs": [],
   "source": [
    "#dataframe.sort_values(by='EP', ascending=False, inplace=True"
   ]
  },
  {
   "cell_type": "code",
   "execution_count": 210,
   "metadata": {},
   "outputs": [],
   "source": [
    "pares_mult = [(13,16), (34,39), (62,64), (109,115), (205, 207), (594,641), (816,928), (959,982), (1005,1022), (1030,1064), (1084,1108), (1143,1147), (1159,1164), (1173,1181), (1194,1197), (1225, 1234), (1255,1260), (1314,1327)]"
   ]
  },
  {
   "cell_type": "code",
   "execution_count": 211,
   "metadata": {},
   "outputs": [],
   "source": [
    "mult_13_16 = dataframe[(dataframe['mult'] >= 13) & (dataframe['mult'] <= 16)]\n",
    "#mult_13_16.sort_values(by='EP', inplace=True)"
   ]
  },
  {
   "cell_type": "code",
   "execution_count": 212,
   "metadata": {},
   "outputs": [],
   "source": [
    "mult_62_64 = dataframe[(dataframe['mult'] >= 62) & (dataframe['mult'] <= 64)]"
   ]
  },
  {
   "cell_type": "code",
   "execution_count": 213,
   "metadata": {},
   "outputs": [
    {
     "data": {
      "text/html": [
       "<div>\n",
       "<style scoped>\n",
       "    .dataframe tbody tr th:only-of-type {\n",
       "        vertical-align: middle;\n",
       "    }\n",
       "\n",
       "    .dataframe tbody tr th {\n",
       "        vertical-align: top;\n",
       "    }\n",
       "\n",
       "    .dataframe thead th {\n",
       "        text-align: right;\n",
       "    }\n",
       "</style>\n",
       "<table border=\"1\" class=\"dataframe\">\n",
       "  <thead>\n",
       "    <tr style=\"text-align: right;\">\n",
       "      <th></th>\n",
       "      <th>lambda</th>\n",
       "      <th>EP</th>\n",
       "      <th>log_gf</th>\n",
       "      <th>ele</th>\n",
       "      <th>W</th>\n",
       "      <th>mult</th>\n",
       "    </tr>\n",
       "  </thead>\n",
       "  <tbody>\n",
       "    <tr>\n",
       "      <th>83</th>\n",
       "      <td>6151.62</td>\n",
       "      <td>2.18</td>\n",
       "      <td>-3.298</td>\n",
       "      <td>FeI</td>\n",
       "      <td>49.7</td>\n",
       "      <td>62</td>\n",
       "    </tr>\n",
       "    <tr>\n",
       "      <th>86</th>\n",
       "      <td>6173.34</td>\n",
       "      <td>2.22</td>\n",
       "      <td>-2.877</td>\n",
       "      <td>FeI</td>\n",
       "      <td>68.0</td>\n",
       "      <td>62</td>\n",
       "    </tr>\n",
       "    <tr>\n",
       "      <th>88</th>\n",
       "      <td>6219.29</td>\n",
       "      <td>2.20</td>\n",
       "      <td>-2.463</td>\n",
       "      <td>FeI</td>\n",
       "      <td>89.6</td>\n",
       "      <td>62</td>\n",
       "    </tr>\n",
       "    <tr>\n",
       "      <th>91</th>\n",
       "      <td>6240.65</td>\n",
       "      <td>2.22</td>\n",
       "      <td>-3.292</td>\n",
       "      <td>FeI</td>\n",
       "      <td>48.3</td>\n",
       "      <td>64</td>\n",
       "    </tr>\n",
       "    <tr>\n",
       "      <th>95</th>\n",
       "      <td>6335.34</td>\n",
       "      <td>2.20</td>\n",
       "      <td>-2.339</td>\n",
       "      <td>FeI</td>\n",
       "      <td>97.2</td>\n",
       "      <td>62</td>\n",
       "    </tr>\n",
       "  </tbody>\n",
       "</table>\n",
       "</div>"
      ],
      "text/plain": [
       "     lambda    EP  log_gf   ele     W  mult\n",
       "83  6151.62  2.18  -3.298  FeI   49.7    62\n",
       "86  6173.34  2.22  -2.877  FeI   68.0    62\n",
       "88  6219.29  2.20  -2.463  FeI   89.6    62\n",
       "91  6240.65  2.22  -3.292  FeI   48.3    64\n",
       "95  6335.34  2.20  -2.339  FeI   97.2    62"
      ]
     },
     "execution_count": 213,
     "metadata": {},
     "output_type": "execute_result"
    }
   ],
   "source": [
    "mult_62_64"
   ]
  },
  {
   "cell_type": "code",
   "execution_count": 214,
   "metadata": {},
   "outputs": [],
   "source": [
    "y = np.log(mult_13_16['W'] / (mult_13_16['lambda']/1000))\n",
    "x = mult_13_16['log_gf']"
   ]
  },
  {
   "cell_type": "code",
   "execution_count": 215,
   "metadata": {},
   "outputs": [],
   "source": [
    "y_2 = np.log(mult_62_64['W'] / (mult_62_64['lambda']/1000))\n",
    "x_2 = mult_62_64['log_gf']"
   ]
  },
  {
   "cell_type": "code",
   "execution_count": 216,
   "metadata": {},
   "outputs": [
    {
     "data": {
      "text/plain": [
       "83    2.089289\n",
       "86    2.399268\n",
       "88    2.667700\n",
       "91    2.046347\n",
       "95    2.730627\n",
       "dtype: float64"
      ]
     },
     "execution_count": 216,
     "metadata": {},
     "output_type": "execute_result"
    }
   ],
   "source": [
    "y_2"
   ]
  },
  {
   "cell_type": "code",
   "execution_count": 217,
   "metadata": {},
   "outputs": [],
   "source": [
    "def linear_function(x, m, b):\n",
    "    return m * x + b"
   ]
  },
  {
   "cell_type": "code",
   "execution_count": 218,
   "metadata": {},
   "outputs": [],
   "source": [
    "popt_1, pcov_1 = curve_fit(linear_function, x, y, p0=[8,25])"
   ]
  },
  {
   "cell_type": "code",
   "execution_count": 219,
   "metadata": {},
   "outputs": [],
   "source": [
    "popt_2, pcov_2 = curve_fit(linear_function, x_2, y_2, p0=[8,25])"
   ]
  },
  {
   "cell_type": "code",
   "execution_count": 220,
   "metadata": {},
   "outputs": [],
   "source": [
    "m_optimal, b_optimal = popt_1\n",
    "x_model = np.linspace(min(x), max(x), 100)\n",
    "y_model = linear_function(x_model, m_optimal, b_optimal)"
   ]
  },
  {
   "cell_type": "code",
   "execution_count": 221,
   "metadata": {},
   "outputs": [],
   "source": [
    "m_optimal_2, b_optimal_2 = popt_2\n",
    "x_model_2 = np.linspace(min(x_2), max(x_2), 100)\n",
    "y_model_2 = linear_function(x_model_2, m_optimal_2, b_optimal_2)"
   ]
  },
  {
   "cell_type": "code",
   "execution_count": 222,
   "metadata": {},
   "outputs": [
    {
     "data": {
      "image/png": "[encoded data removed]",
      "text/plain": [
       "<Figure size 640x480 with 1 Axes>"
      ]
     },
     "metadata": {},
     "output_type": "display_data"
    }
   ],
   "source": [
    "plt.plot(x, y, '*', color='blue')\n",
    "plt.plot(x_model, y_model, color = 'blue')\n",
    "plt.plot(x_2, y_2, '*', color='orange')\n",
    "plt.plot(x_model_2, y_model_2, color = 'orange')\n",
    "plt.show()"
   ]
  },
  {
   "cell_type": "code",
   "execution_count": null,
   "metadata": {},
   "outputs": [],
   "source": []
  }
 ],
 "metadata": {
  "kernelspec": {
   "display_name": "torchEnv",
   "language": "python",
   "name": "python3"
  },
  "language_info": {
   "codemirror_mode": {
    "name": "ipython",
    "version": 3
   },
   "file_extension": ".py",
   "mimetype": "text/x-python",
   "name": "python",
   "nbconvert_exporter": "python",
   "pygments_lexer": "ipython3",
   "version": "3.11.5"
  }
 },
 "nbformat": 4,
 "nbformat_minor": 2
}

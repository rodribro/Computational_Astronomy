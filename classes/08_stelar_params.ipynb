{
 "cells": [
  {
   "cell_type": "markdown",
   "metadata": {},
   "source": [
    "#### <b> Equivalent Width and Stelar Parameters </b>"
   ]
  },
  {
   "cell_type": "code",
   "execution_count": 147,
   "metadata": {},
   "outputs": [],
   "source": [
    "import matplotlib.pyplot as plt\n",
    "import numpy as np\n",
    "import pandas as pd\n",
    "from project2 import  P, get_synth_intensity_wavelength, get_intensity_wavelength_star, growth_curve_og_opt_params, pairwise_excitment_temperature, find_solar_temperature_combinations, fwhm\n",
    "from scipy.optimize import curve_fit, leastsq\n",
    "from scipy.signal import convolve"
   ]
  },
  {
   "cell_type": "code",
   "execution_count": 75,
   "metadata": {},
   "outputs": [],
   "source": [
    "# Definição da função gaussiana\n",
    "def w_gaussian(lambdas, A, lambda_c, sigma, B):\n",
    "    return A * np.exp(-((lambdas - lambda_c)**2) / (2 * sigma**2)) + B"
   ]
  },
  {
   "cell_type": "code",
   "execution_count": 76,
   "metadata": {},
   "outputs": [],
   "source": [
    "def find_nearest_risca(wavelength, intensity, lambda_0, delta_lambda=0.1, threshold=0.05):\n",
    "    \"\"\"\n",
    "    Detecta a risca mais próxima de um comprimento de onda central λ0.\n",
    "    \n",
    "    Parameters:\n",
    "        wavelength (array): Comprimento de onda do espectro.\n",
    "        intensity (array): Intensidade do espectro.\n",
    "        lambda_0 (float): Comprimento de onda central estimado da risca.\n",
    "        delta_lambda (float): Faixa de tolerância ao redor de λ0 (default=0.1 nm).\n",
    "        threshold (float): Limite mínimo de variação relativa para detectar a risca (default=0.05).\n",
    "    \n",
    "    Returns:\n",
    "        lambda_c (float): Comprimento de onda central da risca detectada.\n",
    "        risca_found (bool): Indica se a risca foi encontrada.\n",
    "    \"\"\"\n",
    "    # Isolar faixa de interesse ao redor de lambda_0\n",
    "    mask = (wavelength >= lambda_0 - delta_lambda) & (wavelength <= lambda_0 + delta_lambda)\n",
    "    wavelength_subset = wavelength[mask]\n",
    "    intensity_subset = intensity[mask]\n",
    "    \n",
    "    # Verificar se a faixa contém dados suficientes\n",
    "    if len(wavelength_subset) == 0:\n",
    "        print(f\"Nenhuma faixa encontrada ao redor de λ0 = {lambda_0:.2f}\")\n",
    "        return None, False\n",
    "\n",
    "    # Encontrar mínimo local (risca de absorção)\n",
    "    min_idx = np.argmin(intensity_subset)\n",
    "    lambda_c = wavelength_subset[min_idx]\n",
    "    I_continuo = max(intensity_subset)\n",
    "    I_min = intensity_subset[min_idx]\n",
    "    variation = (I_continuo - I_min) / I_continuo\n",
    "\n",
    "    # Verificar se o mínimo é significativo\n",
    "    if variation > threshold:\n",
    "        return lambda_c\n",
    "    else:\n",
    "        #print(f\"Variação insuficiente para detectar risca em λ0 = {lambda_0:.2f}\")\n",
    "        return None\n"
   ]
  },
  {
   "cell_type": "code",
   "execution_count": 77,
   "metadata": {},
   "outputs": [],
   "source": [
    "star_1 = '../Project2/Dados_Trab2/estrela1.fits'\n",
    "wv_1, flux_1 = get_intensity_wavelength_star(star_1, 4000, 7000)"
   ]
  },
  {
   "cell_type": "code",
   "execution_count": 78,
   "metadata": {},
   "outputs": [],
   "source": [
    "star_2 = '../Project2/Dados_Trab2/estrela2.fits'\n",
    "wv_2, flux_2 = get_intensity_wavelength_star(star_2, 4000, 6913)"
   ]
  },
  {
   "cell_type": "code",
   "execution_count": 79,
   "metadata": {},
   "outputs": [
    {
     "data": {
      "text/plain": [
       "[<matplotlib.lines.Line2D at 0x229db2f4c90>]"
      ]
     },
     "execution_count": 79,
     "metadata": {},
     "output_type": "execute_result"
    },
    {
     "data": {
      "image/png": "[encoded data removed]",
      "text/plain": [
       "<Figure size 640x480 with 1 Axes>"
      ]
     },
     "metadata": {},
     "output_type": "display_data"
    }
   ],
   "source": [
    "plt.plot(wv_1, flux_1)"
   ]
  },
  {
   "cell_type": "code",
   "execution_count": 80,
   "metadata": {},
   "outputs": [],
   "source": [
    "dataframe = pd.read_csv('../Project2/Dados_Trab2/line_list_tsantaki2.csv')"
   ]
  },
  {
   "cell_type": "code",
   "execution_count": 81,
   "metadata": {},
   "outputs": [],
   "source": [
    "multipletos = [(13,16), (34,39), (62,64), (109,115), (205, 207), (594,641), (816,928), (959,982), (1005,1022), (1030,1064), (1084,1108), (1143,1147), (1159,1164), (1173,1181), (1194,1197), (1225, 1234), (1255,1260), (1314,1327)]"
   ]
  },
  {
   "cell_type": "code",
   "execution_count": 82,
   "metadata": {},
   "outputs": [
    {
     "data": {
      "text/plain": [
       "[(13, 16),\n",
       " (34, 39),\n",
       " (62, 64),\n",
       " (109, 115),\n",
       " (205, 207),\n",
       " (594, 641),\n",
       " (816, 928),\n",
       " (959, 982),\n",
       " (1005, 1022),\n",
       " (1030, 1064),\n",
       " (1084, 1108),\n",
       " (1143, 1147),\n",
       " (1159, 1164),\n",
       " (1173, 1181),\n",
       " (1194, 1197),\n",
       " (1225, 1234),\n",
       " (1255, 1260),\n",
       " (1314, 1327)]"
      ]
     },
     "execution_count": 82,
     "metadata": {},
     "output_type": "execute_result"
    }
   ],
   "source": [
    "multipletos"
   ]
  },
  {
   "cell_type": "code",
   "execution_count": 83,
   "metadata": {},
   "outputs": [],
   "source": [
    "optimal_params, xx, org_x, org_y, energy_potential, central_wv = growth_curve_og_opt_params(multipletos, dataframe)"
   ]
  },
  {
   "cell_type": "code",
   "execution_count": 84,
   "metadata": {},
   "outputs": [
    {
     "data": {
      "text/plain": [
       "[array([-3.317, -4.526, -5.894, -3.907]),\n",
       " array([-3.163, -5.13 , -4.81 , -4.902, -2.403, -2.563, -2.947]),\n",
       " array([-3.298, -2.877, -2.463, -3.292, -2.339]),\n",
       " array([-2.488, -2.125, -3.942, -2.929, -3.795]),\n",
       " array([-3.479, -2.397, -2.368, -2.632, -3.915, -3.377]),\n",
       " array([-2.87 , -2.644, -2.156, -2.63 ]),\n",
       " array([-1.871, -2.09 , -1.55 , -1.527, -2.301, -2.252, -1.124, -2.627,\n",
       "        -1.552, -2.511, -1.24 ]),\n",
       " array([-1.928, -1.921, -1.136, -1.091, -1.776, -2.069]),\n",
       " array([-2.333, -1.417, -1.238, -1.645, -2.657, -2.075]),\n",
       " array([-1.709, -1.595, -1.986, -1.07 , -2.364, -2.187]),\n",
       " array([-1.095, -1.022, -1.419, -1.298, -0.809, -0.847, -2.164, -1.124,\n",
       "        -1.622, -1.82 ]),\n",
       " array([-1.518, -0.534, -0.684, -1.051, -0.729, -1.124]),\n",
       " array([-1.319, -1.064, -1.435, -1.763, -1.402]),\n",
       " array([-1.805, -1.531, -0.404, -0.775, -1.057, -1.211, -0.326, -0.719,\n",
       "        -0.124, -1.008, -1.566, -1.878, -1.475, -0.972]),\n",
       " array([-1.057, -1.045, -1.169, -1.674]),\n",
       " array([-1.797, -2.106, -2.144]),\n",
       " array([-0.478, -0.489, -0.364, -1.425]),\n",
       " array([-0.385, -0.785, -1.273])]"
      ]
     },
     "execution_count": 84,
     "metadata": {},
     "output_type": "execute_result"
    }
   ],
   "source": [
    "org_x"
   ]
  },
  {
   "cell_type": "code",
   "execution_count": 85,
   "metadata": {},
   "outputs": [
    {
     "data": {
      "text/plain": [
       "[array([0.92, 0.86, 0.92, 0.86]),\n",
       " array([1.61, 1.49, 1.49, 1.56, 2.86, 2.81, 2.84]),\n",
       " array([2.18, 2.22, 2.2 , 2.22, 2.2 ]),\n",
       " array([2.28, 2.42, 2.28, 2.28, 2.42]),\n",
       " array([2.59, 2.61, 2.59, 2.56, 2.61, 2.56]),\n",
       " array([3.27, 3.25, 3.3 , 3.25]),\n",
       " array([3.65, 3.65, 3.69, 3.69, 3.63, 3.63, 3.63, 3.64, 3.69, 3.64, 3.65]),\n",
       " array([3.94, 3.94, 3.88, 3.93, 3.98, 3.88]),\n",
       " array([4.14, 4.14, 4.08, 4.08, 4.08, 4.08]),\n",
       " array([4.15, 4.14, 4.19, 4.22, 4.15, 4.1 ]),\n",
       " array([4.22, 4.26, 4.21, 4.21, 4.22, 4.28, 4.22, 4.22, 4.22, 4.28]),\n",
       " array([4.42, 4.42, 4.45, 4.37, 4.45, 4.37]),\n",
       " array([4.39, 4.43, 4.39, 4.47, 4.39]),\n",
       " array([4.55, 4.61, 4.55, 4.65, 4.65, 4.55, 4.65, 4.55, 4.55, 4.65, 4.65,\n",
       "        4.61, 4.55, 4.61]),\n",
       " array([4.61, 4.61, 4.64, 4.61]),\n",
       " array([4.59, 4.59, 4.58]),\n",
       " array([4.79, 4.73, 4.79, 4.79]),\n",
       " array([4.99, 5.1 , 4.58])]"
      ]
     },
     "execution_count": 85,
     "metadata": {},
     "output_type": "execute_result"
    }
   ],
   "source": [
    "energy_potential"
   ]
  },
  {
   "cell_type": "code",
   "execution_count": 86,
   "metadata": {},
   "outputs": [
    {
     "data": {
      "text/plain": [
       "[array([5127.36, 5956.7 , 6120.25, 6358.68]),\n",
       " array([4602.  , 5853.15, 6710.32, 6739.52, 4508.28, 4520.22, 4576.34]),\n",
       " array([6151.62, 6173.34, 6219.29, 6240.65, 6335.34]),\n",
       " array([4630.12, 5141.74, 6392.54, 6481.88, 6861.94]),\n",
       " array([6005.55, 6200.32, 6322.69, 6609.12, 6646.94, 6839.84]),\n",
       " array([4537.67, 4556.93, 4566.52, 4808.15]),\n",
       " array([4523.4 , 4596.41, 4690.14, 4802.88, 4961.92, 5223.19, 5242.5 ,\n",
       "        5294.55, 5379.58, 5636.7 , 6232.65]),\n",
       " array([4551.65, 4593.53, 4885.43, 5934.66, 6096.67, 6226.74]),\n",
       " array([5811.92, 6127.91, 6157.73, 6315.81, 6745.97, 6857.25]),\n",
       " array([5386.34, 5464.28, 5473.17, 5543.94, 5815.22, 6725.36]),\n",
       " array([5228.38, 5243.78, 5522.45, 5618.64, 5638.27, 5715.09, 5738.24,\n",
       "        5775.08, 5793.92, 5814.81]),\n",
       " array([5295.32, 5389.48, 5398.28, 5409.14, 5432.95, 5546.51]),\n",
       " array([5436.3 , 5560.22, 5619.6 , 5651.47, 5653.87]),\n",
       " array([5720.9 , 5855.08, 5862.36, 5905.68, 5927.79, 5929.68, 5930.19,\n",
       "        5983.69, 6024.06, 6079.01, 6094.38, 6159.38, 6627.55, 6858.15]),\n",
       " array([6705.11, 6726.67, 6842.69, 6855.72]),\n",
       " array([5902.48, 6699.15, 6732.07]),\n",
       " array([5987.07, 6056.01, 6078.49, 6713.74]),\n",
       " array([5633.95, 5649.99, 6089.57])]"
      ]
     },
     "execution_count": 86,
     "metadata": {},
     "output_type": "execute_result"
    }
   ],
   "source": [
    "central_wv"
   ]
  },
  {
   "cell_type": "code",
   "execution_count": 87,
   "metadata": {},
   "outputs": [],
   "source": [
    "def spectrum_central_wavelengths(central_wavelengths, star_wv, star_flux):\n",
    "    star_lambda_c = []\n",
    "    for i in range(len(central_wavelengths)):\n",
    "        for j in range(len(central_wavelengths[i])):\n",
    "            risca = find_nearest_risca(star_wv, star_flux, central_wavelengths[i][j])\n",
    "            star_lambda_c.append(risca)\n",
    "\n",
    "    # Identificar os índices das entradas que são None\n",
    "    indices_to_remove = [i for i, risca in enumerate(star_lambda_c) if risca is None]\n",
    "\n",
    "    # Remove None entries that correspond to non-existing central wavelengths\n",
    "    star_lambda_c = [risca for risca in star_lambda_c if risca is not None]\n",
    "\n",
    "\n",
    "    return star_lambda_c, indices_to_remove"
   ]
  },
  {
   "cell_type": "code",
   "execution_count": 88,
   "metadata": {},
   "outputs": [],
   "source": [
    "star_1_lambda_c, indices = spectrum_central_wavelengths(central_wv, wv_1, flux_1)"
   ]
  },
  {
   "cell_type": "code",
   "execution_count": 89,
   "metadata": {},
   "outputs": [
    {
     "data": {
      "text/plain": [
       "[2, 52, 100, 101]"
      ]
     },
     "execution_count": 89,
     "metadata": {},
     "output_type": "execute_result"
    }
   ],
   "source": [
    "indices"
   ]
  },
  {
   "cell_type": "code",
   "execution_count": 90,
   "metadata": {},
   "outputs": [],
   "source": [
    "star_2_lambda_c, indices_2 = spectrum_central_wavelengths(central_wv, wv_2, flux_2)"
   ]
  },
  {
   "cell_type": "code",
   "execution_count": 91,
   "metadata": {},
   "outputs": [
    {
     "data": {
      "text/plain": [
       "[5127.370165798749,\n",
       " 6358.68052040373,\n",
       " 4602.0098812351625,\n",
       " 4508.2851824929985,\n",
       " 4520.194508877499,\n",
       " 4576.351332534385,\n",
       " 6173.351003014714,\n",
       " 6219.2884047027,\n",
       " 6335.341840486499,\n",
       " 4630.11829136684,\n",
       " 5141.749352482973,\n",
       " 6322.692555955524,\n",
       " 4690.164895009932,\n",
       " 5242.493654182248,\n",
       " 6232.647649076916,\n",
       " 5934.664503604126,\n",
       " 5638.27126820282,\n",
       " 5715.086923354564,\n",
       " 5389.485340036275,\n",
       " 5398.284842318693,\n",
       " 5432.96288085895,\n",
       " 5862.368592806533,\n",
       " 5930.194756422035,\n",
       " 5983.691730525372,\n",
       " 6024.069446680376,\n",
       " 5987.071539356573,\n",
       " 6078.496368184013,\n",
       " 5633.951512536905]"
      ]
     },
     "execution_count": 91,
     "metadata": {},
     "output_type": "execute_result"
    }
   ],
   "source": [
    "star_2_lambda_c"
   ]
  },
  {
   "cell_type": "code",
   "execution_count": 92,
   "metadata": {},
   "outputs": [
    {
     "data": {
      "text/plain": [
       "[5127.368461040728,\n",
       " 5956.701196434913,\n",
       " 6358.694967209653,\n",
       " 4602.008084013605,\n",
       " 5853.1608305746595,\n",
       " 6710.318289625573,\n",
       " 6739.522751645445,\n",
       " 4508.285856360649,\n",
       " 4520.223592633065,\n",
       " 4576.332952734238,\n",
       " 6151.6242335932275,\n",
       " 6173.340115656618,\n",
       " 6219.291402011748,\n",
       " 6240.647352328231,\n",
       " 6335.33939607702,\n",
       " 4630.122752688676,\n",
       " 5141.7457347088475,\n",
       " 6392.528551418914,\n",
       " 6481.8816075885825,\n",
       " 6861.949536114236,\n",
       " 6005.55193297346,\n",
       " 6200.324998570563,\n",
       " 6322.69179441487,\n",
       " 6609.117480120214,\n",
       " 6646.930309753614,\n",
       " 6839.833729887616,\n",
       " 4537.670284253974,\n",
       " 4556.926632713501,\n",
       " 4566.51481452694,\n",
       " 4808.148993950522,\n",
       " 4523.402989730744,\n",
       " 4596.409145728385,\n",
       " 4690.1413714854225,\n",
       " 4802.879993099967,\n",
       " 4961.919834712467,\n",
       " 5223.180292446561,\n",
       " 5242.496629530571,\n",
       " 5294.54675937496,\n",
       " 5379.580634581744,\n",
       " 5636.691879122327,\n",
       " 6232.648869063631,\n",
       " 4551.647633758865,\n",
       " 4593.519693649048,\n",
       " 4885.434338494724,\n",
       " 5934.6553769368575,\n",
       " 6096.664655461341,\n",
       " 6226.739989551907,\n",
       " 5811.908653137481,\n",
       " 6127.908730713687,\n",
       " 6157.733075186566,\n",
       " 6315.8130988073135,\n",
       " 6857.250427196284,\n",
       " 5386.339352940331,\n",
       " 5464.284572353863,\n",
       " 5473.16288877757,\n",
       " 5543.939467565204,\n",
       " 5815.21802558821,\n",
       " 6725.355438163022,\n",
       " 5228.379306568551,\n",
       " 5243.776386852907,\n",
       " 5522.45354189567,\n",
       " 5618.635303152491,\n",
       " 5638.261581463004,\n",
       " 5715.087013219492,\n",
       " 5738.242622270511,\n",
       " 5775.085635808077,\n",
       " 5793.9220638962115,\n",
       " 5814.8081033209,\n",
       " 5295.316613389177,\n",
       " 5389.488755725768,\n",
       " 5398.287087316829,\n",
       " 5409.1350302444425,\n",
       " 5432.950514164791,\n",
       " 5546.508980313956,\n",
       " 5436.299879031842,\n",
       " 5560.216381008666,\n",
       " 5619.595121144243,\n",
       " 5651.469076953676,\n",
       " 5653.868621933057,\n",
       " 5720.895911690409,\n",
       " 5855.080466558164,\n",
       " 5862.35908632895,\n",
       " 5905.670873206762,\n",
       " 5927.786679433382,\n",
       " 5929.676321104644,\n",
       " 5930.186224412762,\n",
       " 5983.686079348859,\n",
       " 6024.06842173101,\n",
       " 6079.018001758815,\n",
       " 6094.395085835011,\n",
       " 6159.362766151728,\n",
       " 6627.553984045118,\n",
       " 6858.150256563551,\n",
       " 6705.1092773995015,\n",
       " 6726.675187901681,\n",
       " 6842.693187654711,\n",
       " 6855.720717271929,\n",
       " 5902.471479900922,\n",
       " 5987.065438528152,\n",
       " 6056.002366164928,\n",
       " 6078.498100346616,\n",
       " 6713.74763932527,\n",
       " 5633.952398604201,\n",
       " 5649.989357549725,\n",
       " 6089.575999668088]"
      ]
     },
     "execution_count": 92,
     "metadata": {},
     "output_type": "execute_result"
    }
   ],
   "source": [
    "star_1_lambda_c"
   ]
  },
  {
   "cell_type": "code",
   "execution_count": 93,
   "metadata": {},
   "outputs": [
    {
     "data": {
      "text/plain": [
       "105"
      ]
     },
     "execution_count": 93,
     "metadata": {},
     "output_type": "execute_result"
    }
   ],
   "source": [
    "len(star_1_lambda_c)"
   ]
  },
  {
   "cell_type": "code",
   "execution_count": 94,
   "metadata": {},
   "outputs": [],
   "source": [
    "fwhm_value_1 = fwhm(wv_1, 55000)"
   ]
  },
  {
   "cell_type": "code",
   "execution_count": 95,
   "metadata": {},
   "outputs": [
    {
     "data": {
      "text/plain": [
       "0.09919656689355325"
      ]
     },
     "execution_count": 95,
     "metadata": {},
     "output_type": "execute_result"
    }
   ],
   "source": [
    "fwhm_value_1"
   ]
  },
  {
   "cell_type": "code",
   "execution_count": 96,
   "metadata": {},
   "outputs": [],
   "source": [
    "fwhm_value_2 = fwhm(wv_2, 55000)"
   ]
  },
  {
   "cell_type": "code",
   "execution_count": 97,
   "metadata": {},
   "outputs": [
    {
     "data": {
      "text/plain": [
       "0.09920384665211766"
      ]
     },
     "execution_count": 97,
     "metadata": {},
     "output_type": "execute_result"
    }
   ],
   "source": [
    "fwhm_value_2"
   ]
  },
  {
   "cell_type": "code",
   "execution_count": 98,
   "metadata": {},
   "outputs": [],
   "source": [
    "double_fwhm_1 = 2 * fwhm_value_1"
   ]
  },
  {
   "cell_type": "code",
   "execution_count": 99,
   "metadata": {},
   "outputs": [],
   "source": [
    "double_fwhm_2 = 2 * fwhm_value_2"
   ]
  },
  {
   "cell_type": "code",
   "execution_count": 100,
   "metadata": {},
   "outputs": [
    {
     "data": {
      "text/plain": [
       "0.1983931337871065"
      ]
     },
     "execution_count": 100,
     "metadata": {},
     "output_type": "execute_result"
    }
   ],
   "source": [
    "double_fwhm_1"
   ]
  },
  {
   "cell_type": "code",
   "execution_count": 101,
   "metadata": {},
   "outputs": [
    {
     "data": {
      "text/plain": [
       "0.19840769330423533"
      ]
     },
     "execution_count": 101,
     "metadata": {},
     "output_type": "execute_result"
    }
   ],
   "source": [
    "double_fwhm_2"
   ]
  },
  {
   "cell_type": "code",
   "execution_count": 102,
   "metadata": {},
   "outputs": [],
   "source": [
    "def fit_gaussian(wavelength, intensity, lambda_c, delta_lambda=0.5):\n",
    "    \"\"\"\n",
    "    Ajusta uma gaussiana a uma risca no espectro.\n",
    "\n",
    "    Parameters:\n",
    "        wavelength (array): Comprimento de onda do espectro.\n",
    "        intensity (array): Intensidade do espectro.\n",
    "        lambda_c (float): Comprimento de onda central estimado da risca.\n",
    "        delta_lambda (float): Largura da faixa ao redor de λc para análise.\n",
    "\n",
    "    Returns:\n",
    "        params (tuple): Parâmetros ajustados (A, lambda_c, sigma, B).\n",
    "        W_lambda (float): Largura equivalente da risca.\n",
    "    \"\"\"\n",
    "    # Isolar faixa da risca\n",
    "    mask = (wavelength >= lambda_c - delta_lambda) & (wavelength <= lambda_c + delta_lambda)\n",
    "    wavelength_subset = wavelength[mask]\n",
    "    intensity_subset = intensity[mask]\n",
    "\n",
    "    # Normalizar o fluxo\n",
    "    I_continuo = max(intensity_subset)\n",
    "    intensity_subset_normalized = intensity_subset / I_continuo\n",
    "\n",
    "\n",
    "    if len(wavelength_subset) == 0:\n",
    "        raise ValueError(f\"Nenhuma faixa encontrada ao redor de λc = {lambda_c:.2f}\")\n",
    "\n",
    "    # Parâmetros iniciais de acordo com os slides\n",
    "    p0 = [-1, lambda_c, 0.19, 1] # 2*fwhm ~ 0.19\n",
    "\n",
    "    # Ajuste da gaussiana\n",
    "    params, _ = curve_fit(w_gaussian, wavelength_subset, intensity_subset_normalized, p0=p0)\n",
    "    A, lambda_c_fit, sigma, B = params\n",
    "\n",
    "    # Calcular largura equivalente da risca\n",
    "    W_lambda = np.abs((np.sqrt(2 * np.pi) * A * sigma) / B)\n",
    "    \n",
    "    return params, W_lambda"
   ]
  },
  {
   "cell_type": "code",
   "execution_count": 103,
   "metadata": {},
   "outputs": [],
   "source": [
    "def plot_gaussian_fit(wavelength, intensity, lambda_c, delta_lambda=0.5):\n",
    "    \"\"\"\n",
    "    Ajusta uma gaussiana e plota a sobreposição com o espectro da estrela.\n",
    "\n",
    "    Parameters:\n",
    "        wavelength (array): Comprimento de onda do espectro.\n",
    "        intensity (array): Intensidade do espectro.\n",
    "        lambda_c (float): Comprimento de onda central estimado da risca.\n",
    "        delta_lambda (float): Largura da faixa ao redor de λc para análise.\n",
    "    \"\"\"\n",
    "    # Isolar a faixa ao redor de λc\n",
    "    mask = (wavelength >= lambda_c - delta_lambda) & (wavelength <= lambda_c + delta_lambda)\n",
    "    wavelength_subset = wavelength[mask]\n",
    "    intensity_subset = intensity[mask]\n",
    "\n",
    "    # Ajustar a gaussiana\n",
    "   # Parâmetros iniciais\n",
    "    p0 = [-1, lambda_c, 0.1, 1]\n",
    "    popt, _ = curve_fit(w_gaussian, wavelength_subset, intensity_subset, p0=p0)\n",
    "    A, mu, sigma, B = popt\n",
    "\n",
    "    # Gerar a gaussiana ajustada para visualização\n",
    "    gaussian_fit = w_gaussian(wavelength_subset, *popt)\n",
    "\n",
    "    # Plotar o espectro original e a gaussiana ajustada\n",
    "    plt.figure(figsize=(10, 6))\n",
    "    plt.plot(wavelength_subset, intensity_subset, label='Espectro Original', color='black', alpha=0.7)\n",
    "    plt.plot(wavelength_subset, gaussian_fit, label='Gaussiana Ajustada', color='red', linestyle='--')\n",
    "    plt.title('Ajuste da Gaussiana ao Espectro da Estrela')\n",
    "    plt.xlabel('Comprimento de Onda (Å)')\n",
    "    plt.ylabel('Intensidade')\n",
    "    plt.legend()\n",
    "    plt.show()"
   ]
  },
  {
   "cell_type": "code",
   "execution_count": 104,
   "metadata": {},
   "outputs": [
    {
     "data": {
      "image/png": "[encoded data removed]",
      "text/plain": [
       "<Figure size 1000x600 with 1 Axes>"
      ]
     },
     "metadata": {},
     "output_type": "display_data"
    }
   ],
   "source": [
    "plot_gaussian_fit(wv_1, flux_1,star_1_lambda_c[3], delta_lambda=0.5)"
   ]
  },
  {
   "cell_type": "markdown",
   "metadata": {},
   "source": [
    "<b> Equivalent Widths </b>"
   ]
  },
  {
   "cell_type": "code",
   "execution_count": 105,
   "metadata": {},
   "outputs": [],
   "source": [
    "def equivalentd_widths(star_lambda_c, wv, flux):\n",
    "    w_lambda_vals = []\n",
    "    for i in range(len(star_lambda_c)):\n",
    "        _ , w_lambda = fit_gaussian(wv, flux, star_lambda_c[i])\n",
    "        w_lambda_vals.append(w_lambda)\n",
    "    return w_lambda_vals"
   ]
  },
  {
   "cell_type": "code",
   "execution_count": 106,
   "metadata": {},
   "outputs": [],
   "source": [
    "eq_w_1 = equivalentd_widths(star_1_lambda_c, wv_1, flux_1)"
   ]
  },
  {
   "cell_type": "code",
   "execution_count": 107,
   "metadata": {},
   "outputs": [
    {
     "data": {
      "text/plain": [
       "[0.08444263357667009,\n",
       " 0.046930809783868155,\n",
       " 0.07431536011921554,\n",
       " 0.0648849379220081,\n",
       " 104.27741570679132,\n",
       " 0.012051863842485631,\n",
       " 0.008681659650667075,\n",
       " 0.06753269593538604,\n",
       " 0.060512713619092516,\n",
       " 0.05004229381182058,\n",
       " 0.04300436688929444,\n",
       " 0.060494138108961176,\n",
       " 0.08063406125922803,\n",
       " 0.03808591239593762,\n",
       " 0.08774750098435416,\n",
       " 0.06290793858027464,\n",
       " 0.07589360328412281,\n",
       " 0.013308193336199906,\n",
       " 0.05571585474715828,\n",
       " 0.011812165302820922,\n",
       " 0.01704618260552421,\n",
       " 0.06434239436334402,\n",
       " 0.06573672261681665,\n",
       " 0.054365194368399164,\n",
       " 0.00650715358087967,\n",
       " 0.023695452279179748,\n",
       " 0.009737883943655283,\n",
       " 0.016194064136142456,\n",
       " 1169.4695994062706,\n",
       " 62.592223854039986,\n",
       " 0.03155112265528502,\n",
       " 5.62995394265225,\n",
       " 0.04605710271042745,\n",
       " 0.04924080387098823,\n",
       " 0.018679720113500345,\n",
       " 0.012849283998848876,\n",
       " 0.07456296591800972,\n",
       " 0.009647137884520358,\n",
       " 0.051138234112883166,\n",
       " 88.7868002776811,\n",
       " 0.07237998624203332,\n",
       " 65.8318472441621,\n",
       " 22.368535979812897,\n",
       " 0.1869094017203868,\n",
       " 0.06582022381115833,\n",
       " 0.028114834969306918,\n",
       " 0.02058139207333025,\n",
       " 0.007554636425936535,\n",
       " 0.038608496720097904,\n",
       " 0.050415556351820996,\n",
       " 0.06510259571393287,\n",
       " 0.015652214609591934,\n",
       " 0.023394435163770124,\n",
       " 0.026577665061556417,\n",
       " 98.2363368870592,\n",
       " 0.05136944358443633,\n",
       " 74.02845180090726,\n",
       " 0.011719201685668661,\n",
       " 0.04491888782304841,\n",
       " 0.047550907494852676,\n",
       " 0.03337565503451974,\n",
       " 0.040424619108277535,\n",
       " 0.06458337360734383,\n",
       " 0.05921704699937006,\n",
       " 0.007606917564723617,\n",
       " 0.048610156352601706,\n",
       " 0.02468614974344403,\n",
       " 0.014141856623338946,\n",
       " 0.018611555842698278,\n",
       " 0.06865515631715725,\n",
       " 0.06119558978113777,\n",
       " 0.03997414927053984,\n",
       " 58.05399433674055,\n",
       " 0.03718135984827427,\n",
       " 0.04106509166942517,\n",
       " 0.04097681444763375,\n",
       " 0.023154767967498786,\n",
       " 0.012628187950123616,\n",
       " 0.026826969426873,\n",
       " 0.00900971027923157,\n",
       " 0.015058308551507527,\n",
       " 0.07335412303432065,\n",
       " 0.04662145002376643,\n",
       " 0.032273147275102554,\n",
       " 0.06629008656937581,\n",
       " 0.0690480043882745,\n",
       " 0.055361894809854706,\n",
       " 0.09260138967715621,\n",
       " 0.04679718946861815,\n",
       " 0.013061397820494557,\n",
       " 0.007868414098822173,\n",
       " 0.019697630524315106,\n",
       " 0.040532152919105224,\n",
       " 0.0351156460539384,\n",
       " 0.03634099201874905,\n",
       " 0.026822050812234915,\n",
       " 111.24389440598057,\n",
       " 0.010110423275366636,\n",
       " 0.05537834726395054,\n",
       " 0.06017449629990664,\n",
       " 0.058768012766415204,\n",
       " 0.013747422487242011,\n",
       " 0.0543140530120489,\n",
       " 0.0688284994262163,\n",
       " 0.026860990116251243]"
      ]
     },
     "execution_count": 107,
     "metadata": {},
     "output_type": "execute_result"
    }
   ],
   "source": [
    "eq_w_1"
   ]
  },
  {
   "cell_type": "markdown",
   "metadata": {},
   "source": [
    "<b> Excitation Temperature </b>"
   ]
  },
  {
   "cell_type": "code",
   "execution_count": 108,
   "metadata": {},
   "outputs": [],
   "source": [
    "multipletos = [(13,16), (34,39), (62,64), (109,115), (205, 207), (594,641), (816,928), (959,982), (1005,1022), (1030,1064), (1084,1108), (1143,1147), (1159,1164), (1173,1181), (1194,1197), (1225, 1234), (1255,1260), (1314,1327)]"
   ]
  },
  {
   "cell_type": "code",
   "execution_count": 109,
   "metadata": {},
   "outputs": [],
   "source": [
    "dataframe = pd.read_csv('../Project2/Dados_Trab2/line_list_tsantaki2.csv')"
   ]
  },
  {
   "cell_type": "code",
   "execution_count": 110,
   "metadata": {},
   "outputs": [],
   "source": [
    "valid_combinations, multiplets = find_solar_temperature_combinations(multipletos, dataframe)"
   ]
  },
  {
   "cell_type": "code",
   "execution_count": 111,
   "metadata": {},
   "outputs": [
    {
     "data": {
      "text/plain": [
       "[((34, 39), (1084, 1108)),\n",
       " ((109, 115), (1084, 1108)),\n",
       " ((109, 115), (1194, 1197)),\n",
       " ((205, 207), (1159, 1164)),\n",
       " ((959, 982), (1255, 1260)),\n",
       " ((1084, 1108), (1194, 1197))]"
      ]
     },
     "execution_count": 111,
     "metadata": {},
     "output_type": "execute_result"
    }
   ],
   "source": [
    "valid_combinations"
   ]
  },
  {
   "cell_type": "code",
   "execution_count": 112,
   "metadata": {},
   "outputs": [
    {
     "data": {
      "text/plain": [
       "'valid_combinations = [((13,16), (109,115)),\\n ((13,16), (959,982)),\\n ((13,16), (1030,1064)),\\n ((13,16), (1084,1108)),\\n ((13,16), (1143,1147)),\\n ((13,16), (1159,1164)),\\n ((13,16), (1314,1327)),\\n ((62,64), (959,982)),\\n ((62,64), (1159,1164)),\\n ((109,115), (1030,1064)),\\n ((109,115), (1084,1108)),\\n ((109,115), (1314,1327)),\\n ((1005,1022), (1030,1064)),\\n ((1005,1022), (1173,1181)),\\n ((1030,1064), (1314,1327))]'"
      ]
     },
     "execution_count": 112,
     "metadata": {},
     "output_type": "execute_result"
    }
   ],
   "source": [
    "'''valid_combinations = [((13,16), (109,115)),\n",
    " ((13,16), (959,982)),\n",
    " ((13,16), (1030,1064)),\n",
    " ((13,16), (1084,1108)),\n",
    " ((13,16), (1143,1147)),\n",
    " ((13,16), (1159,1164)),\n",
    " ((13,16), (1314,1327)),\n",
    " ((62,64), (959,982)),\n",
    " ((62,64), (1159,1164)),\n",
    " ((109,115), (1030,1064)),\n",
    " ((109,115), (1084,1108)),\n",
    " ((109,115), (1314,1327)),\n",
    " ((1005,1022), (1030,1064)),\n",
    " ((1005,1022), (1173,1181)),\n",
    " ((1030,1064), (1314,1327))]'''\n"
   ]
  },
  {
   "cell_type": "code",
   "execution_count": 113,
   "metadata": {},
   "outputs": [],
   "source": [
    "def process_multiplet(dataframe, valid_combinations, star_wv, star_flux, index, zero_or_one):\n",
    "\n",
    "    # Get parameters based on best multiplet combinations\n",
    "    _, _, log_gf, _, energy_potential, central_wv = growth_curve_og_opt_params([valid_combinations[index][zero_or_one]],dataframe)\n",
    "\n",
    "    # Find star's corresponding central wavelengths\n",
    "    star_lambda_c, indices_to_rem = spectrum_central_wavelengths(central_wv, star_wv, star_flux)\n",
    "    \n",
    "    # Remove non-relevant indices\n",
    "    if (len(indices_to_rem) != 0):\n",
    "        print(f\"Removing indices {indices_to_rem}\")\n",
    "        log_gf = np.delete(log_gf, indices_to_rem)\n",
    "        energy_potential = np.delete(energy_potential, indices_to_rem)\n",
    "\n",
    "    # Fit gaussian based on the star's central wavelengths\n",
    "    eq_widths = equivalentd_widths(star_lambda_c, star_wv, star_flux)\n",
    "\n",
    "    # Calcular log(W_lambda / lambda)\n",
    "    log_w_by_lambda = np.log10(np.array(eq_widths) / np.array(star_lambda_c))\n",
    "\n",
    "    # Calcular log(gf * lambda)\n",
    "    log_gf_lambda = np.array(log_gf) + np.log(np.array(star_lambda_c)/1000)\n",
    "\n",
    "    # Ajustar linha reta: y = mx + b\n",
    "    x = np.array(energy_potential).ravel()\n",
    "    y = np.array(log_w_by_lambda - log_gf_lambda).ravel()\n",
    "\n",
    "    # Remove nan and inf\n",
    "    valid_mask = ~np.isnan(x) & ~np.isinf(x) & ~np.isnan(y) & ~np.isinf(y)\n",
    "    # Apply the mask to both x and y to ensure they have the same length\n",
    "    x = x[valid_mask]\n",
    "    y = y[valid_mask]\n",
    "\n",
    "    mean_ep = np.average(x)\n",
    "    # Debug\n",
    "    #print(f\"[MULT]\\nLarguras Equivalentes 1: {eq_widths}\\nLambdas 1: {star_lambda_c}\\nlog(gf): {log_gf}\\nEnergy potentials 1: {energy_potential}\\nlog_w_by_lambda: {log_w_by_lambda}\\nlog_gf_lambda {log_gf_lambda}\\nx1: {x}\\ny1: {y}\\n\")\n",
    "\n",
    "    # Ajustar a reta usando polyfit\n",
    "    try:\n",
    "        slope, intercept = np.polyfit(x, y, 1)\n",
    "    except Exception as e:\n",
    "        print(f\"Error in polyfit for index {index} (zero_or_one={zero_or_one}): {e}\")\n",
    "        print(x)\n",
    "        slope, intercept = np.nan, np.nan\n",
    "\n",
    "\n",
    "    return slope, intercept, mean_ep"
   ]
  },
  {
   "cell_type": "code",
   "execution_count": 114,
   "metadata": {},
   "outputs": [],
   "source": [
    "def estimate_excitation_temperature(valid_combinations, dataframe, star_wv, star_flux):\n",
    "    avg_temps = []\n",
    "\n",
    "\n",
    "    for i in range(len(valid_combinations)):\n",
    "\n",
    "        # MULTIPLET 1\n",
    "        slope_1, intercept_1,  ep_1 = process_multiplet(dataframe,valid_combinations, star_wv, star_flux, i, 0)\n",
    "        # Verifica se a primeira combinação foi processada com sucesso\n",
    "        if np.isnan(slope_1) or np.isnan(intercept_1):\n",
    "            continue  # Se houver erro ignora o índice\n",
    "        \n",
    "        # MULTIPLET 2\n",
    "        slope_2, intercept_2, ep_2= process_multiplet(dataframe, valid_combinations, star_wv, star_flux, i, 1)\n",
    "        \n",
    "        if np.isnan(slope_2) or np.isnan(intercept_2):\n",
    "            continue  \n",
    "\n",
    "        delta = np.sqrt((slope_1 - slope_2)**2 + (intercept_1 - intercept_2)**2) #Δ= sqrt( (m1​−m2​)^2+(b1​−b2​)^2 )\n",
    "        t_exc = np.abs(5040 * (ep_1 -ep_2)) / delta\n",
    "\n",
    "        avg_temps.append(t_exc)\n",
    "    return avg_temps"
   ]
  },
  {
   "cell_type": "code",
   "execution_count": 115,
   "metadata": {},
   "outputs": [],
   "source": [
    "temps = estimate_excitation_temperature(valid_combinations, dataframe, wv_1, flux_1)"
   ]
  },
  {
   "cell_type": "code",
   "execution_count": 116,
   "metadata": {},
   "outputs": [
    {
     "data": {
      "text/plain": [
       "[5605.8216897979355,\n",
       " 5478.396783923666,\n",
       " 53.82893213737188,\n",
       " 23539.477189610472,\n",
       " 101.80421190918621,\n",
       " 9.120130379770787]"
      ]
     },
     "execution_count": 116,
     "metadata": {},
     "output_type": "execute_result"
    }
   ],
   "source": [
    "temps"
   ]
  },
  {
   "cell_type": "code",
   "execution_count": 117,
   "metadata": {},
   "outputs": [],
   "source": [
    "avg_temp = np.average(temps)"
   ]
  },
  {
   "cell_type": "code",
   "execution_count": 118,
   "metadata": {},
   "outputs": [
    {
     "data": {
      "text/plain": [
       "5798.074822959734"
      ]
     },
     "execution_count": 118,
     "metadata": {},
     "output_type": "execute_result"
    }
   ],
   "source": [
    "avg_temp"
   ]
  },
  {
   "cell_type": "code",
   "execution_count": 119,
   "metadata": {},
   "outputs": [
    {
     "name": "stdout",
     "output_type": "stream",
     "text": [
      "Removing indices [1, 2, 3]\n",
      "Removing indices [0, 1, 2, 3, 6, 7, 8, 9]\n",
      "Removing indices [2, 3, 4]\n",
      "Removing indices [0, 1, 2, 3, 6, 7, 8, 9]\n",
      "Removing indices [2, 3, 4]\n",
      "Removing indices [0, 1, 2, 3]\n",
      "Error in polyfit for index 2 (zero_or_one=1): expected non-empty vector for x\n",
      "[]\n",
      "Removing indices [0, 1, 3, 4, 5]\n",
      "Removing indices [0, 1, 2, 3, 4]\n",
      "Error in polyfit for index 3 (zero_or_one=1): expected non-empty vector for x\n",
      "[]\n",
      "Removing indices [0, 1, 2, 4, 5]\n",
      "Removing indices [1, 3]\n",
      "Removing indices [0, 1, 2, 3, 6, 7, 8, 9]\n",
      "Removing indices [0, 1, 2, 3]\n",
      "Error in polyfit for index 5 (zero_or_one=1): expected non-empty vector for x\n",
      "[]\n"
     ]
    },
    {
     "name": "stderr",
     "output_type": "stream",
     "text": [
      "c:\\Users\\Rodrigo\\anaconda3\\envs\\torchEnv\\Lib\\site-packages\\numpy\\lib\\function_base.py:520: RuntimeWarning: Mean of empty slice.\n",
      "  avg = a.mean(axis, **keepdims_kw)\n",
      "c:\\Users\\Rodrigo\\anaconda3\\envs\\torchEnv\\Lib\\site-packages\\numpy\\core\\_methods.py:129: RuntimeWarning: invalid value encountered in scalar divide\n",
      "  ret = ret.dtype.type(ret / rcount)\n",
      "C:\\Users\\Rodrigo\\AppData\\Local\\Temp\\ipykernel_17392\\1553373913.py:40: RankWarning: Polyfit may be poorly conditioned\n",
      "  slope, intercept = np.polyfit(x, y, 1)\n",
      "C:\\Users\\Rodrigo\\AppData\\Local\\Temp\\ipykernel_17392\\1553373913.py:40: RankWarning: Polyfit may be poorly conditioned\n",
      "  slope, intercept = np.polyfit(x, y, 1)\n",
      "C:\\Users\\Rodrigo\\AppData\\Local\\Temp\\ipykernel_17392\\1553373913.py:40: RankWarning: Polyfit may be poorly conditioned\n",
      "  slope, intercept = np.polyfit(x, y, 1)\n"
     ]
    }
   ],
   "source": [
    "temps_2 = estimate_excitation_temperature(valid_combinations, dataframe, wv_2, flux_2)"
   ]
  },
  {
   "cell_type": "code",
   "execution_count": 120,
   "metadata": {},
   "outputs": [
    {
     "data": {
      "text/plain": [
       "[3262.3323299999465, 1132.068020789182, 11013.087776229973]"
      ]
     },
     "execution_count": 120,
     "metadata": {},
     "output_type": "execute_result"
    }
   ],
   "source": [
    "temps_2"
   ]
  },
  {
   "cell_type": "code",
   "execution_count": 121,
   "metadata": {},
   "outputs": [],
   "source": [
    "avg_temps_2 = np.average(temps_2)"
   ]
  },
  {
   "cell_type": "code",
   "execution_count": 122,
   "metadata": {},
   "outputs": [
    {
     "data": {
      "text/plain": [
       "5135.829375673034"
      ]
     },
     "execution_count": 122,
     "metadata": {},
     "output_type": "execute_result"
    }
   ],
   "source": [
    "avg_temps_2"
   ]
  },
  {
   "cell_type": "code",
   "execution_count": 123,
   "metadata": {},
   "outputs": [
    {
     "data": {
      "text/plain": [
       "5798.074822959734"
      ]
     },
     "execution_count": 123,
     "metadata": {},
     "output_type": "execute_result"
    }
   ],
   "source": [
    "avg_temp"
   ]
  },
  {
   "cell_type": "markdown",
   "metadata": {},
   "source": [
    "<b> Process Synthetic Spectra </b>"
   ]
  },
  {
   "cell_type": "code",
   "execution_count": 124,
   "metadata": {},
   "outputs": [],
   "source": [
    "from pathlib import Path\n",
    "import sys"
   ]
  },
  {
   "cell_type": "code",
   "execution_count": 125,
   "metadata": {},
   "outputs": [
    {
     "name": "stdout",
     "output_type": "stream",
     "text": [
      "Files and directories in ' ../Project2/star_1_spectra ' :\n",
      "['M_p5250g3.5z-0.50t1.0_a0.00c0.00n0.00o0.00r0.00s0.00_VIS.spec.FITS', 'M_p5250g3.5z-1.00t1.0_a0.00c0.00n0.00o0.00r0.00s0.00_VIS.spec.FITS', 'M_p5250g3.5z-1.50t1.0_a0.00c0.00n0.00o0.00r0.00s0.00_VIS.spec.FITS', 'M_p5250g3.5z-2.00t1.0_a0.00c0.00n0.00o0.00r0.00s0.00_VIS.spec.FITS', 'M_p5250g3.5z-2.50t1.0_a0.00c0.00n0.00o0.00r0.00s0.00_VIS.spec.FITS', 'M_p5250g3.5z-3.00t1.0_a0.00c0.00n0.00o0.00r0.00s0.00_VIS.spec.FITS', 'M_p5250g3.5z0.00t1.0_a0.00c0.00n0.00o0.00r0.00s0.00_VIS.spec.FITS', 'M_p5250g3.5z0.25t1.0_a0.00c0.00n0.00o0.00r0.00s0.00_VIS.spec.FITS', 'M_p5250g3.5z0.50t1.0_a0.00c0.00n0.00o0.00r0.00s0.00_VIS.spec.FITS', 'M_p5250g3.5z0.75t1.0_a0.00c0.00n0.00o0.00r0.00s0.00_VIS.spec.FITS', 'M_p5250g3.5z1.00t1.0_a0.00c0.00n0.00o0.00r0.00s0.00_VIS.spec.FITS', 'M_p5250g4.0z-0.50t1.0_a0.00c0.00n0.00o0.00r0.00s0.00_VIS.spec.FITS', 'M_p5250g4.0z-1.00t1.0_a0.00c0.00n0.00o0.00r0.00s0.00_VIS.spec.FITS', 'M_p5250g4.0z-1.50t1.0_a0.00c0.00n0.00o0.00r0.00s0.00_VIS.spec.FITS', 'M_p5250g4.0z-2.00t1.0_a0.00c0.00n0.00o0.00r0.00s0.00_VIS.spec.FITS', 'M_p5250g4.0z-2.50t1.0_a0.00c0.00n0.00o0.00r0.00s0.00_VIS.spec.FITS', 'M_p5250g4.0z-3.00t1.0_a0.00c0.00n0.00o0.00r0.00s0.00_VIS.spec.FITS', 'M_p5250g4.0z0.00t1.0_a0.00c0.00n0.00o0.00r0.00s0.00_VIS.spec.FITS', 'M_p5250g4.0z0.25t1.0_a0.00c0.00n0.00o0.00r0.00s0.00_VIS.spec.FITS', 'M_p5250g4.0z0.50t1.0_a0.00c0.00n0.00o0.00r0.00s0.00_VIS.spec.FITS', 'M_p5250g4.0z0.75t1.0_a0.00c0.00n0.00o0.00r0.00s0.00_VIS.spec.FITS', 'M_p5250g4.0z1.00t1.0_a0.00c0.00n0.00o0.00r0.00s0.00_VIS.spec.FITS', 'M_p5250g4.5z-0.50t1.0_a0.00c0.00n0.00o0.00r0.00s0.00_VIS.spec.FITS', 'M_p5250g4.5z-1.00t1.0_a0.00c0.00n0.00o0.00r0.00s0.00_VIS.spec.FITS', 'M_p5250g4.5z-1.50t1.0_a0.00c0.00n0.00o0.00r0.00s0.00_VIS.spec.FITS', 'M_p5250g4.5z-2.00t1.0_a0.00c0.00n0.00o0.00r0.00s0.00_VIS.spec.FITS', 'M_p5250g4.5z-2.50t1.0_a0.00c0.00n0.00o0.00r0.00s0.00_VIS.spec.FITS', 'M_p5250g4.5z-3.00t1.0_a0.00c0.00n0.00o0.00r0.00s0.00_VIS.spec.FITS', 'M_p5250g4.5z0.00t1.0_a0.00c0.00n0.00o0.00r0.00s0.00_VIS.spec.FITS', 'M_p5250g4.5z0.25t1.0_a0.00c0.00n0.00o0.00r0.00s0.00_VIS.spec.FITS', 'M_p5250g4.5z0.50t1.0_a0.00c0.00n0.00o0.00r0.00s0.00_VIS.spec.FITS', 'M_p5250g4.5z0.75t1.0_a0.00c0.00n0.00o0.00r0.00s0.00_VIS.spec.FITS', 'M_p5250g4.5z1.00t1.0_a0.00c0.00n0.00o0.00r0.00s0.00_VIS.spec.FITS', 'M_p5250g5.0z-0.50t1.0_a0.00c0.00n0.00o0.00r0.00s0.00_VIS.spec.FITS', 'M_p5250g5.0z-1.00t1.0_a0.00c0.00n0.00o0.00r0.00s0.00_VIS.spec.FITS', 'M_p5250g5.0z-1.50t1.0_a0.00c0.00n0.00o0.00r0.00s0.00_VIS.spec.FITS', 'M_p5250g5.0z-2.00t1.0_a0.00c0.00n0.00o0.00r0.00s0.00_VIS.spec.FITS', 'M_p5250g5.0z-2.50t1.0_a0.00c0.00n0.00o0.00r0.00s0.00_VIS.spec.FITS', 'M_p5250g5.0z-3.00t1.0_a0.00c0.00n0.00o0.00r0.00s0.00_VIS.spec.FITS', 'M_p5250g5.0z0.00t1.0_a0.00c0.00n0.00o0.00r0.00s0.00_VIS.spec.FITS', 'M_p5250g5.0z0.25t1.0_a0.00c0.00n0.00o0.00r0.00s0.00_VIS.spec.FITS', 'M_p5250g5.0z0.50t1.0_a0.00c0.00n0.00o0.00r0.00s0.00_VIS.spec.FITS', 'M_p5250g5.0z0.75t1.0_a0.00c0.00n0.00o0.00r0.00s0.00_VIS.spec.FITS', 'M_p5250g5.0z1.00t1.0_a0.00c0.00n0.00o0.00r0.00s0.00_VIS.spec.FITS', 'M_p5500g3.5z-0.50t1.0_a0.00c0.00n0.00o0.00r0.00s0.00_VIS.spec.FITS', 'M_p5500g3.5z-1.00t1.0_a0.00c0.00n0.00o0.00r0.00s0.00_VIS.spec.FITS', 'M_p5500g3.5z-1.50t1.0_a0.00c0.00n0.00o0.00r0.00s0.00_VIS.spec.FITS', 'M_p5500g3.5z-2.00t1.0_a0.00c0.00n0.00o0.00r0.00s0.00_VIS.spec.FITS', 'M_p5500g3.5z-2.50t1.0_a0.00c0.00n0.00o0.00r0.00s0.00_VIS.spec.FITS', 'M_p5500g3.5z-3.00t1.0_a0.00c0.00n0.00o0.00r0.00s0.00_VIS.spec.FITS', 'M_p5500g3.5z0.00t1.0_a0.00c0.00n0.00o0.00r0.00s0.00_VIS.spec.FITS', 'M_p5500g3.5z0.25t1.0_a0.00c0.00n0.00o0.00r0.00s0.00_VIS.spec.FITS', 'M_p5500g3.5z0.50t1.0_a0.00c0.00n0.00o0.00r0.00s0.00_VIS.spec.FITS', 'M_p5500g3.5z0.75t1.0_a0.00c0.00n0.00o0.00r0.00s0.00_VIS.spec.FITS', 'M_p5500g3.5z1.00t1.0_a0.00c0.00n0.00o0.00r0.00s0.00_VIS.spec.FITS', 'M_p5500g4.0z-0.50t1.0_a0.00c0.00n0.00o0.00r0.00s0.00_VIS.spec.FITS', 'M_p5500g4.0z-1.00t1.0_a0.00c0.00n0.00o0.00r0.00s0.00_VIS.spec.FITS', 'M_p5500g4.0z-1.50t1.0_a0.00c0.00n0.00o0.00r0.00s0.00_VIS.spec.FITS', 'M_p5500g4.0z-2.00t1.0_a0.00c0.00n0.00o0.00r0.00s0.00_VIS.spec.FITS', 'M_p5500g4.0z-2.50t1.0_a0.00c0.00n0.00o0.00r0.00s0.00_VIS.spec.FITS', 'M_p5500g4.0z-3.00t1.0_a0.00c0.00n0.00o0.00r0.00s0.00_VIS.spec.FITS', 'M_p5500g4.0z0.00t1.0_a0.00c0.00n0.00o0.00r0.00s0.00_VIS.spec.FITS', 'M_p5500g4.0z0.25t1.0_a0.00c0.00n0.00o0.00r0.00s0.00_VIS.spec.FITS', 'M_p5500g4.0z0.50t1.0_a0.00c0.00n0.00o0.00r0.00s0.00_VIS.spec.FITS', 'M_p5500g4.0z0.75t1.0_a0.00c0.00n0.00o0.00r0.00s0.00_VIS.spec.FITS', 'M_p5500g4.0z1.00t1.0_a0.00c0.00n0.00o0.00r0.00s0.00_VIS.spec.FITS', 'M_p5500g4.5z-0.50t1.0_a0.00c0.00n0.00o0.00r0.00s0.00_VIS.spec.FITS', 'M_p5500g4.5z-1.00t1.0_a0.00c0.00n0.00o0.00r0.00s0.00_VIS.spec.FITS', 'M_p5500g4.5z-1.50t1.0_a0.00c0.00n0.00o0.00r0.00s0.00_VIS.spec.FITS', 'M_p5500g4.5z-2.00t1.0_a0.00c0.00n0.00o0.00r0.00s0.00_VIS.spec.FITS', 'M_p5500g4.5z-2.50t1.0_a0.00c0.00n0.00o0.00r0.00s0.00_VIS.spec.FITS', 'M_p5500g4.5z-3.00t1.0_a0.00c0.00n0.00o0.00r0.00s0.00_VIS.spec.FITS', 'M_p5500g4.5z0.00t1.0_a0.00c0.00n0.00o0.00r0.00s0.00_VIS.spec.FITS', 'M_p5500g4.5z0.25t1.0_a0.00c0.00n0.00o0.00r0.00s0.00_VIS.spec.FITS', 'M_p5500g4.5z0.50t1.0_a0.00c0.00n0.00o0.00r0.00s0.00_VIS.spec.FITS', 'M_p5500g4.5z0.75t1.0_a0.00c0.00n0.00o0.00r0.00s0.00_VIS.spec.FITS', 'M_p5500g4.5z1.00t1.0_a0.00c0.00n0.00o0.00r0.00s0.00_VIS.spec.FITS', 'M_p5500g5.0z-0.50t1.0_a0.00c0.00n0.00o0.00r0.00s0.00_VIS.spec.FITS', 'M_p5500g5.0z-1.00t1.0_a0.00c0.00n0.00o0.00r0.00s0.00_VIS.spec.FITS', 'M_p5500g5.0z-1.50t1.0_a0.00c0.00n0.00o0.00r0.00s0.00_VIS.spec.FITS', 'M_p5500g5.0z-2.00t1.0_a0.00c0.00n0.00o0.00r0.00s0.00_VIS.spec.FITS', 'M_p5500g5.0z-2.50t1.0_a0.00c0.00n0.00o0.00r0.00s0.00_VIS.spec.FITS', 'M_p5500g5.0z-3.00t1.0_a0.00c0.00n0.00o0.00r0.00s0.00_VIS.spec.FITS', 'M_p5500g5.0z0.00t1.0_a0.00c0.00n0.00o0.00r0.00s0.00_VIS.spec.FITS', 'M_p5500g5.0z0.25t1.0_a0.00c0.00n0.00o0.00r0.00s0.00_VIS.spec.FITS', 'M_p5500g5.0z0.50t1.0_a0.00c0.00n0.00o0.00r0.00s0.00_VIS.spec.FITS', 'M_p5500g5.0z0.75t1.0_a0.00c0.00n0.00o0.00r0.00s0.00_VIS.spec.FITS', 'M_p5500g5.0z1.00t1.0_a0.00c0.00n0.00o0.00r0.00s0.00_VIS.spec.FITS', 'M_p5750g3.5z-0.50t1.0_a0.00c0.00n0.00o0.00r0.00s0.00_VIS.spec.FITS', 'M_p5750g3.5z-1.00t1.0_a0.00c0.00n0.00o0.00r0.00s0.00_VIS.spec.FITS', 'M_p5750g3.5z-1.50t1.0_a0.00c0.00n0.00o0.00r0.00s0.00_VIS.spec.FITS', 'M_p5750g3.5z-2.00t1.0_a0.00c0.00n0.00o0.00r0.00s0.00_VIS.spec.FITS', 'M_p5750g3.5z-2.50t1.0_a0.00c0.00n0.00o0.00r0.00s0.00_VIS.spec.FITS', 'M_p5750g3.5z-3.00t1.0_a0.00c0.00n0.00o0.00r0.00s0.00_VIS.spec.FITS', 'M_p5750g3.5z0.00t1.0_a0.00c0.00n0.00o0.00r0.00s0.00_VIS.spec.FITS', 'M_p5750g3.5z0.25t1.0_a0.00c0.00n0.00o0.00r0.00s0.00_VIS.spec.FITS', 'M_p5750g3.5z0.50t1.0_a0.00c0.00n0.00o0.00r0.00s0.00_VIS.spec.FITS', 'M_p5750g3.5z0.75t1.0_a0.00c0.00n0.00o0.00r0.00s0.00_VIS.spec.FITS', 'M_p5750g3.5z1.00t1.0_a0.00c0.00n0.00o0.00r0.00s0.00_VIS.spec.FITS', 'M_p5750g4.0z-0.50t1.0_a0.00c0.00n0.00o0.00r0.00s0.00_VIS.spec.FITS', 'M_p5750g4.0z-1.00t1.0_a0.00c0.00n0.00o0.00r0.00s0.00_VIS.spec.FITS', 'M_p5750g4.0z-1.50t1.0_a0.00c0.00n0.00o0.00r0.00s0.00_VIS.spec.FITS', 'M_p5750g4.0z-2.00t1.0_a0.00c0.00n0.00o0.00r0.00s0.00_VIS.spec.FITS', 'M_p5750g4.0z-2.50t1.0_a0.00c0.00n0.00o0.00r0.00s0.00_VIS.spec.FITS', 'M_p5750g4.0z-3.00t1.0_a0.00c0.00n0.00o0.00r0.00s0.00_VIS.spec.FITS', 'M_p5750g4.0z0.00t1.0_a0.00c0.00n0.00o0.00r0.00s0.00_VIS.spec.FITS', 'M_p5750g4.0z0.25t1.0_a0.00c0.00n0.00o0.00r0.00s0.00_VIS.spec.FITS', 'M_p5750g4.0z0.50t1.0_a0.00c0.00n0.00o0.00r0.00s0.00_VIS.spec.FITS', 'M_p5750g4.0z0.75t1.0_a0.00c0.00n0.00o0.00r0.00s0.00_VIS.spec.FITS', 'M_p5750g4.0z1.00t1.0_a0.00c0.00n0.00o0.00r0.00s0.00_VIS.spec.FITS', 'M_p5750g4.5z-0.50t1.0_a0.00c0.00n0.00o0.00r0.00s0.00_VIS.spec.FITS', 'M_p5750g4.5z-1.00t1.0_a0.00c0.00n0.00o0.00r0.00s0.00_VIS.spec.FITS', 'M_p5750g4.5z-1.50t1.0_a0.00c0.00n0.00o0.00r0.00s0.00_VIS.spec.FITS', 'M_p5750g4.5z-2.00t1.0_a0.00c0.00n0.00o0.00r0.00s0.00_VIS.spec.FITS', 'M_p5750g4.5z-2.50t1.0_a0.00c0.00n0.00o0.00r0.00s0.00_VIS.spec.FITS', 'M_p5750g4.5z-3.00t1.0_a0.00c0.00n0.00o0.00r0.00s0.00_VIS.spec.FITS', 'M_p5750g4.5z0.00t1.0_a0.00c0.00n0.00o0.00r0.00s0.00_VIS.spec.FITS', 'M_p5750g4.5z0.25t1.0_a0.00c0.00n0.00o0.00r0.00s0.00_VIS.spec.FITS', 'M_p5750g4.5z0.50t1.0_a0.00c0.00n0.00o0.00r0.00s0.00_VIS.spec.FITS', 'M_p5750g4.5z0.75t1.0_a0.00c0.00n0.00o0.00r0.00s0.00_VIS.spec.FITS', 'M_p5750g4.5z1.00t1.0_a0.00c0.00n0.00o0.00r0.00s0.00_VIS.spec.FITS', 'M_p5750g5.0z-0.50t1.0_a0.00c0.00n0.00o0.00r0.00s0.00_VIS.spec.FITS', 'M_p5750g5.0z-1.00t1.0_a0.00c0.00n0.00o0.00r0.00s0.00_VIS.spec.FITS', 'M_p5750g5.0z-1.50t1.0_a0.00c0.00n0.00o0.00r0.00s0.00_VIS.spec.FITS', 'M_p5750g5.0z-2.00t1.0_a0.00c0.00n0.00o0.00r0.00s0.00_VIS.spec.FITS', 'M_p5750g5.0z-2.50t1.0_a0.00c0.00n0.00o0.00r0.00s0.00_VIS.spec.FITS', 'M_p5750g5.0z-3.00t1.0_a0.00c0.00n0.00o0.00r0.00s0.00_VIS.spec.FITS', 'M_p5750g5.0z0.00t1.0_a0.00c0.00n0.00o0.00r0.00s0.00_VIS.spec.FITS', 'M_p5750g5.0z0.25t1.0_a0.00c0.00n0.00o0.00r0.00s0.00_VIS.spec.FITS', 'M_p5750g5.0z0.50t1.0_a0.00c0.00n0.00o0.00r0.00s0.00_VIS.spec.FITS', 'M_p5750g5.0z0.75t1.0_a0.00c0.00n0.00o0.00r0.00s0.00_VIS.spec.FITS', 'M_p5750g5.0z1.00t1.0_a0.00c0.00n0.00o0.00r0.00s0.00_VIS.spec.FITS', 'M_p5777g4.4z0.00t1.0_a0.00c0.00n0.00o0.00r0.00s0.00_VIS.spec.FITS', 'M_p6000g3.5z-0.50t1.0_a0.00c0.00n0.00o0.00r0.00s0.00_VIS.spec.FITS', 'M_p6000g3.5z-1.00t1.0_a0.00c0.00n0.00o0.00r0.00s0.00_VIS.spec.FITS', 'M_p6000g3.5z-1.50t1.0_a0.00c0.00n0.00o0.00r0.00s0.00_VIS.spec.FITS', 'M_p6000g3.5z-2.00t1.0_a0.00c0.00n0.00o0.00r0.00s0.00_VIS.spec.FITS', 'M_p6000g3.5z-2.50t1.0_a0.00c0.00n0.00o0.00r0.00s0.00_VIS.spec.FITS', 'M_p6000g3.5z-3.00t1.0_a0.00c0.00n0.00o0.00r0.00s0.00_VIS.spec.FITS', 'M_p6000g3.5z0.00t1.0_a0.00c0.00n0.00o0.00r0.00s0.00_VIS.spec.FITS', 'M_p6000g3.5z0.25t1.0_a0.00c0.00n0.00o0.00r0.00s0.00_VIS.spec.FITS', 'M_p6000g3.5z0.50t1.0_a0.00c0.00n0.00o0.00r0.00s0.00_VIS.spec.FITS', 'M_p6000g3.5z0.75t1.0_a0.00c0.00n0.00o0.00r0.00s0.00_VIS.spec.FITS', 'M_p6000g3.5z1.00t1.0_a0.00c0.00n0.00o0.00r0.00s0.00_VIS.spec.FITS', 'M_p6000g4.0z-0.50t1.0_a0.00c0.00n0.00o0.00r0.00s0.00_VIS.spec.FITS', 'M_p6000g4.0z-1.00t1.0_a0.00c0.00n0.00o0.00r0.00s0.00_VIS.spec.FITS', 'M_p6000g4.0z-1.50t1.0_a0.00c0.00n0.00o0.00r0.00s0.00_VIS.spec.FITS', 'M_p6000g4.0z-2.00t1.0_a0.00c0.00n0.00o0.00r0.00s0.00_VIS.spec.FITS', 'M_p6000g4.0z-2.50t1.0_a0.00c0.00n0.00o0.00r0.00s0.00_VIS.spec.FITS', 'M_p6000g4.0z-3.00t1.0_a0.00c0.00n0.00o0.00r0.00s0.00_VIS.spec.FITS', 'M_p6000g4.0z0.00t1.0_a0.00c0.00n0.00o0.00r0.00s0.00_VIS.spec.FITS', 'M_p6000g4.0z0.25t1.0_a0.00c0.00n0.00o0.00r0.00s0.00_VIS.spec.FITS', 'M_p6000g4.0z0.50t1.0_a0.00c0.00n0.00o0.00r0.00s0.00_VIS.spec.FITS', 'M_p6000g4.0z0.75t1.0_a0.00c0.00n0.00o0.00r0.00s0.00_VIS.spec.FITS', 'M_p6000g4.0z1.00t1.0_a0.00c0.00n0.00o0.00r0.00s0.00_VIS.spec.FITS', 'M_p6000g4.5z-0.50t1.0_a0.00c0.00n0.00o0.00r0.00s0.00_VIS.spec.FITS', 'M_p6000g4.5z-1.00t1.0_a0.00c0.00n0.00o0.00r0.00s0.00_VIS.spec.FITS', 'M_p6000g4.5z-1.50t1.0_a0.00c0.00n0.00o0.00r0.00s0.00_VIS.spec.FITS', 'M_p6000g4.5z-2.00t1.0_a0.00c0.00n0.00o0.00r0.00s0.00_VIS.spec.FITS', 'M_p6000g4.5z-2.50t1.0_a0.00c0.00n0.00o0.00r0.00s0.00_VIS.spec.FITS', 'M_p6000g4.5z-3.00t1.0_a0.00c0.00n0.00o0.00r0.00s0.00_VIS.spec.FITS', 'M_p6000g4.5z0.00t1.0_a0.00c0.00n0.00o0.00r0.00s0.00_VIS.spec.FITS', 'M_p6000g4.5z0.25t1.0_a0.00c0.00n0.00o0.00r0.00s0.00_VIS.spec.FITS', 'M_p6000g4.5z0.50t1.0_a0.00c0.00n0.00o0.00r0.00s0.00_VIS.spec.FITS', 'M_p6000g4.5z0.75t1.0_a0.00c0.00n0.00o0.00r0.00s0.00_VIS.spec.FITS', 'M_p6000g4.5z1.00t1.0_a0.00c0.00n0.00o0.00r0.00s0.00_VIS.spec.FITS', 'M_p6000g5.0z-0.50t1.0_a0.00c0.00n0.00o0.00r0.00s0.00_VIS.spec.FITS', 'M_p6000g5.0z-1.00t1.0_a0.00c0.00n0.00o0.00r0.00s0.00_VIS.spec.FITS', 'M_p6000g5.0z-1.50t1.0_a0.00c0.00n0.00o0.00r0.00s0.00_VIS.spec.FITS', 'M_p6000g5.0z-2.00t1.0_a0.00c0.00n0.00o0.00r0.00s0.00_VIS.spec.FITS', 'M_p6000g5.0z-2.50t1.0_a0.00c0.00n0.00o0.00r0.00s0.00_VIS.spec.FITS', 'M_p6000g5.0z-3.00t1.0_a0.00c0.00n0.00o0.00r0.00s0.00_VIS.spec.FITS', 'M_p6000g5.0z0.00t1.0_a0.00c0.00n0.00o0.00r0.00s0.00_VIS.spec.FITS', 'M_p6000g5.0z0.25t1.0_a0.00c0.00n0.00o0.00r0.00s0.00_VIS.spec.FITS', 'M_p6000g5.0z0.50t1.0_a0.00c0.00n0.00o0.00r0.00s0.00_VIS.spec.FITS', 'M_p6000g5.0z0.75t1.0_a0.00c0.00n0.00o0.00r0.00s0.00_VIS.spec.FITS', 'M_p6000g5.0z1.00t1.0_a0.00c0.00n0.00o0.00r0.00s0.00_VIS.spec.FITS', 'M_p6250g3.5z-0.50t1.0_a0.00c0.00n0.00o0.00r0.00s0.00_VIS.spec.FITS', 'M_p6250g3.5z-1.00t1.0_a0.00c0.00n0.00o0.00r0.00s0.00_VIS.spec.FITS', 'M_p6250g3.5z-1.50t1.0_a0.00c0.00n0.00o0.00r0.00s0.00_VIS.spec.FITS', 'M_p6250g3.5z-2.00t1.0_a0.00c0.00n0.00o0.00r0.00s0.00_VIS.spec.FITS', 'M_p6250g3.5z-2.50t1.0_a0.00c0.00n0.00o0.00r0.00s0.00_VIS.spec.FITS', 'M_p6250g3.5z-3.00t1.0_a0.00c0.00n0.00o0.00r0.00s0.00_VIS.spec.FITS', 'M_p6250g3.5z0.00t1.0_a0.00c0.00n0.00o0.00r0.00s0.00_VIS.spec.FITS', 'M_p6250g3.5z0.25t1.0_a0.00c0.00n0.00o0.00r0.00s0.00_VIS.spec.FITS', 'M_p6250g3.5z0.50t1.0_a0.00c0.00n0.00o0.00r0.00s0.00_VIS.spec.FITS', 'M_p6250g3.5z0.75t1.0_a0.00c0.00n0.00o0.00r0.00s0.00_VIS.spec.FITS', 'M_p6250g3.5z1.00t1.0_a0.00c0.00n0.00o0.00r0.00s0.00_VIS.spec.FITS', 'M_p6250g4.0z-0.50t1.0_a0.00c0.00n0.00o0.00r0.00s0.00_VIS.spec.FITS', 'M_p6250g4.0z-1.00t1.0_a0.00c0.00n0.00o0.00r0.00s0.00_VIS.spec.FITS', 'M_p6250g4.0z-1.50t1.0_a0.00c0.00n0.00o0.00r0.00s0.00_VIS.spec.FITS', 'M_p6250g4.0z-2.00t1.0_a0.00c0.00n0.00o0.00r0.00s0.00_VIS.spec.FITS', 'M_p6250g4.0z-2.50t1.0_a0.00c0.00n0.00o0.00r0.00s0.00_VIS.spec.FITS', 'M_p6250g4.0z-3.00t1.0_a0.00c0.00n0.00o0.00r0.00s0.00_VIS.spec.FITS', 'M_p6250g4.0z0.00t1.0_a0.00c0.00n0.00o0.00r0.00s0.00_VIS.spec.FITS', 'M_p6250g4.0z0.25t1.0_a0.00c0.00n0.00o0.00r0.00s0.00_VIS.spec.FITS', 'M_p6250g4.0z0.50t1.0_a0.00c0.00n0.00o0.00r0.00s0.00_VIS.spec.FITS', 'M_p6250g4.0z0.75t1.0_a0.00c0.00n0.00o0.00r0.00s0.00_VIS.spec.FITS', 'M_p6250g4.0z1.00t1.0_a0.00c0.00n0.00o0.00r0.00s0.00_VIS.spec.FITS', 'M_p6250g4.5z-0.50t1.0_a0.00c0.00n0.00o0.00r0.00s0.00_VIS.spec.FITS', 'M_p6250g4.5z-1.00t1.0_a0.00c0.00n0.00o0.00r0.00s0.00_VIS.spec.FITS', 'M_p6250g4.5z-1.50t1.0_a0.00c0.00n0.00o0.00r0.00s0.00_VIS.spec.FITS', 'M_p6250g4.5z-2.00t1.0_a0.00c0.00n0.00o0.00r0.00s0.00_VIS.spec.FITS', 'M_p6250g4.5z-2.50t1.0_a0.00c0.00n0.00o0.00r0.00s0.00_VIS.spec.FITS', 'M_p6250g4.5z-3.00t1.0_a0.00c0.00n0.00o0.00r0.00s0.00_VIS.spec.FITS', 'M_p6250g4.5z0.00t1.0_a0.00c0.00n0.00o0.00r0.00s0.00_VIS.spec.FITS', 'M_p6250g4.5z0.25t1.0_a0.00c0.00n0.00o0.00r0.00s0.00_VIS.spec.FITS', 'M_p6250g4.5z0.50t1.0_a0.00c0.00n0.00o0.00r0.00s0.00_VIS.spec.FITS', 'M_p6250g4.5z0.75t1.0_a0.00c0.00n0.00o0.00r0.00s0.00_VIS.spec.FITS', 'M_p6250g4.5z1.00t1.0_a0.00c0.00n0.00o0.00r0.00s0.00_VIS.spec.FITS', 'M_p6250g5.0z-0.50t1.0_a0.00c0.00n0.00o0.00r0.00s0.00_VIS.spec.FITS', 'M_p6250g5.0z-1.00t1.0_a0.00c0.00n0.00o0.00r0.00s0.00_VIS.spec.FITS', 'M_p6250g5.0z-1.50t1.0_a0.00c0.00n0.00o0.00r0.00s0.00_VIS.spec.FITS', 'M_p6250g5.0z-2.00t1.0_a0.00c0.00n0.00o0.00r0.00s0.00_VIS.spec.FITS', 'M_p6250g5.0z-2.50t1.0_a0.00c0.00n0.00o0.00r0.00s0.00_VIS.spec.FITS', 'M_p6250g5.0z-3.00t1.0_a0.00c0.00n0.00o0.00r0.00s0.00_VIS.spec.FITS', 'M_p6250g5.0z0.00t1.0_a0.00c0.00n0.00o0.00r0.00s0.00_VIS.spec.FITS', 'M_p6250g5.0z0.25t1.0_a0.00c0.00n0.00o0.00r0.00s0.00_VIS.spec.FITS', 'M_p6250g5.0z0.50t1.0_a0.00c0.00n0.00o0.00r0.00s0.00_VIS.spec.FITS', 'M_p6250g5.0z0.75t1.0_a0.00c0.00n0.00o0.00r0.00s0.00_VIS.spec.FITS', 'M_p6250g5.0z1.00t1.0_a0.00c0.00n0.00o0.00r0.00s0.00_VIS.spec.FITS']\n"
     ]
    }
   ],
   "source": [
    "# import OS module\n",
    "import os\n",
    "# Get the list of all files and directories\n",
    "path = '../Project2/star_1_spectra'\n",
    "dir_list = os.listdir(path)\n",
    "print(\"Files and directories in '\", path, \"' :\")\n",
    "print(dir_list)\n"
   ]
  },
  {
   "cell_type": "code",
   "execution_count": 126,
   "metadata": {},
   "outputs": [],
   "source": [
    "wv_synth, flux_synth, normalyzed_synth = get_synth_intensity_wavelength(path+'/'+dir_list[220])"
   ]
  },
  {
   "cell_type": "code",
   "execution_count": 127,
   "metadata": {},
   "outputs": [
    {
     "data": {
      "text/plain": [
       "[<matplotlib.lines.Line2D at 0x229db472710>]"
      ]
     },
     "execution_count": 127,
     "metadata": {},
     "output_type": "execute_result"
    },
    {
     "data": {
      "image/png": "[encoded data removed]",
      "text/plain": [
       "<Figure size 640x480 with 1 Axes>"
      ]
     },
     "metadata": {},
     "output_type": "display_data"
    }
   ],
   "source": [
    "plt.plot(wv_synth, flux_synth)"
   ]
  },
  {
   "cell_type": "code",
   "execution_count": 146,
   "metadata": {},
   "outputs": [],
   "source": [
    "xx_gauss_synth, P_synth = P(wv_synth, 55000)"
   ]
  },
  {
   "cell_type": "code",
   "execution_count": null,
   "metadata": {},
   "outputs": [],
   "source": [
    "E_synth = convolve(flux_synth, P_synth)"
   ]
  },
  {
   "cell_type": "code",
   "execution_count": 129,
   "metadata": {},
   "outputs": [],
   "source": [
    "synth_lambda_c, synth_indices = spectrum_central_wavelengths(central_wv, wv_synth, flux_synth)"
   ]
  },
  {
   "cell_type": "code",
   "execution_count": 130,
   "metadata": {},
   "outputs": [
    {
     "data": {
      "text/plain": [
       "[]"
      ]
     },
     "execution_count": 130,
     "metadata": {},
     "output_type": "execute_result"
    }
   ],
   "source": [
    "synth_indices"
   ]
  },
  {
   "cell_type": "code",
   "execution_count": 134,
   "metadata": {},
   "outputs": [
    {
     "data": {
      "text/plain": [
       "[2, 52, 100, 101]"
      ]
     },
     "execution_count": 134,
     "metadata": {},
     "output_type": "execute_result"
    }
   ],
   "source": [
    "# indices from observed s+ectrum to remove from list of riscas\n",
    "indices"
   ]
  },
  {
   "cell_type": "code",
   "execution_count": 135,
   "metadata": {},
   "outputs": [
    {
     "data": {
      "text/plain": [
       "[array([5127.36, 5956.7 , 6120.25, 6358.68]),\n",
       " array([4602.  , 5853.15, 6710.32, 6739.52, 4508.28, 4520.22, 4576.34]),\n",
       " array([6151.62, 6173.34, 6219.29, 6240.65, 6335.34]),\n",
       " array([4630.12, 5141.74, 6392.54, 6481.88, 6861.94]),\n",
       " array([6005.55, 6200.32, 6322.69, 6609.12, 6646.94, 6839.84]),\n",
       " array([4537.67, 4556.93, 4566.52, 4808.15]),\n",
       " array([4523.4 , 4596.41, 4690.14, 4802.88, 4961.92, 5223.19, 5242.5 ,\n",
       "        5294.55, 5379.58, 5636.7 , 6232.65]),\n",
       " array([4551.65, 4593.53, 4885.43, 5934.66, 6096.67, 6226.74]),\n",
       " array([5811.92, 6127.91, 6157.73, 6315.81, 6745.97, 6857.25]),\n",
       " array([5386.34, 5464.28, 5473.17, 5543.94, 5815.22, 6725.36]),\n",
       " array([5228.38, 5243.78, 5522.45, 5618.64, 5638.27, 5715.09, 5738.24,\n",
       "        5775.08, 5793.92, 5814.81]),\n",
       " array([5295.32, 5389.48, 5398.28, 5409.14, 5432.95, 5546.51]),\n",
       " array([5436.3 , 5560.22, 5619.6 , 5651.47, 5653.87]),\n",
       " array([5720.9 , 5855.08, 5862.36, 5905.68, 5927.79, 5929.68, 5930.19,\n",
       "        5983.69, 6024.06, 6079.01, 6094.38, 6159.38, 6627.55, 6858.15]),\n",
       " array([6705.11, 6726.67, 6842.69, 6855.72]),\n",
       " array([5902.48, 6699.15, 6732.07]),\n",
       " array([5987.07, 6056.01, 6078.49, 6713.74]),\n",
       " array([5633.95, 5649.99, 6089.57])]"
      ]
     },
     "execution_count": 135,
     "metadata": {},
     "output_type": "execute_result"
    }
   ],
   "source": [
    "central_wv"
   ]
  },
  {
   "cell_type": "code",
   "execution_count": 136,
   "metadata": {},
   "outputs": [],
   "source": [
    "synth_updated = np.delete(synth_lambda_c, indices)"
   ]
  },
  {
   "cell_type": "code",
   "execution_count": 143,
   "metadata": {},
   "outputs": [],
   "source": [
    "eq_widths_synth = equivalentd_widths(synth_updated, wv_synth, flux_synth)"
   ]
  },
  {
   "cell_type": "code",
   "execution_count": 144,
   "metadata": {},
   "outputs": [
    {
     "data": {
      "text/plain": [
       "[0.10824132664986967,\n",
       " 0.07349804848331995,\n",
       " 0.127696111157896,\n",
       " 0.09196325298193357,\n",
       " 94.93743816668251,\n",
       " 0.03179008679943792,\n",
       " 0.033806544547530584,\n",
       " 0.10191149334465238,\n",
       " 0.21559044191193796,\n",
       " 0.07905696159243761,\n",
       " 0.0778097257846825,\n",
       " 0.09241744331829943,\n",
       " 0.11890220256679035,\n",
       " 0.07227292907306589,\n",
       " 0.13068433391526887,\n",
       " 0.08703652602288443,\n",
       " 0.11739546873903907,\n",
       " 0.03806614679400173,\n",
       " 0.08737380758433282,\n",
       " 0.06379804771730918,\n",
       " 0.04817118302604159,\n",
       " 0.10013827605476108,\n",
       " 0.09967998981624496,\n",
       " 0.0923306768311366,\n",
       " 0.02575801708631471,\n",
       " 0.055284798785269706,\n",
       " 0.9212223503588405,\n",
       " 0.05604726467256719,\n",
       " 15.49147579296972,\n",
       " 50.57315365006934,\n",
       " 0.06355955082447867,\n",
       " 0.28883360303817335,\n",
       " 0.15291790135919764,\n",
       " 0.08498081826277999,\n",
       " 0.08456743793399542,\n",
       " 0.026683857828588186,\n",
       " 0.11665130589852814,\n",
       " 83.28368131330848,\n",
       " 0.08964888970211386,\n",
       " 58.01620371959166,\n",
       " 0.11271741499596902,\n",
       " 67.05456468655692,\n",
       " 0.038762720278072184,\n",
       " 50.011353640711036,\n",
       " 0.10541834840432204,\n",
       " 0.0715482227782248,\n",
       " 0.055029891638817545,\n",
       " 0.08018870630896514,\n",
       " 0.08102823597954877,\n",
       " 0.0900653377195761,\n",
       " 0.0588256602896085,\n",
       " 0.05113873246595403,\n",
       " 0.061412525899413636,\n",
       " 0.07686702131976268,\n",
       " 0.030446246025222015,\n",
       " 0.09102036258707748,\n",
       " 1.751843561065175,\n",
       " 0.04513593268147163,\n",
       " 0.0770918623005231,\n",
       " 0.07656459240043618,\n",
       " 0.07062390351246726,\n",
       " 0.07663378072220785,\n",
       " 0.10437922340220734,\n",
       " 0.10340195610544435,\n",
       " 0.042841857846857824,\n",
       " 0.08312703388645598,\n",
       " 0.05947852213078209,\n",
       " 0.4033771063228179,\n",
       " 0.049218506276103226,\n",
       " 0.11415770879586383,\n",
       " 0.10061136625142138,\n",
       " 0.07270009791738635,\n",
       " 0.07676786009292874,\n",
       " 0.06903807291990538,\n",
       " 0.11819808219797255,\n",
       " 0.07205935916692092,\n",
       " 0.027985126018722464,\n",
       " 0.03708939509468353,\n",
       " 0.05900085919507246,\n",
       " 0.16317608073113588,\n",
       " 0.058817633123954924,\n",
       " 0.21054648723094666,\n",
       " 0.09597452985267396,\n",
       " 0.07330033009278623,\n",
       " 0.05335266897697791,\n",
       " 0.11819359653845864,\n",
       " 0.06139709934633565,\n",
       " 0.1406372450984334,\n",
       " 0.07994215970261734,\n",
       " 0.03370221268422955,\n",
       " 0.03779969610505638,\n",
       " 0.05175323108595488,\n",
       " 0.09154247362115467,\n",
       " 0.06978684140308947,\n",
       " 0.08138517554056847,\n",
       " 0.07077318674713515,\n",
       " 0.027366537842654474,\n",
       " 0.038790454495842,\n",
       " 0.11570429489913656,\n",
       " 0.112620808005251,\n",
       " 0.1103162033940402,\n",
       " 0.045082440025315536,\n",
       " 0.1030000943977927,\n",
       " 0.15148138475021,\n",
       " 81.49129580478392]"
      ]
     },
     "execution_count": 144,
     "metadata": {},
     "output_type": "execute_result"
    }
   ],
   "source": [
    "eq_widths_synth"
   ]
  }
 ],
 "metadata": {
  "kernelspec": {
   "display_name": "torchEnv",
   "language": "python",
   "name": "python3"
  },
  "language_info": {
   "codemirror_mode": {
    "name": "ipython",
    "version": 3
   },
   "file_extension": ".py",
   "mimetype": "text/x-python",
   "name": "python",
   "nbconvert_exporter": "python",
   "pygments_lexer": "ipython3",
   "version": "3.11.5"
  }
 },
 "nbformat": 4,
 "nbformat_minor": 2
}

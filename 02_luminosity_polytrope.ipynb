{
 "cells": [
  {
   "cell_type": "markdown",
   "metadata": {},
   "source": [
    "### <b> Calculating the luminosity of a polytrope of index n </b>"
   ]
  },
  {
   "cell_type": "code",
   "execution_count": 4,
   "metadata": {},
   "outputs": [],
   "source": [
    "from polytrope_model import lane_emden_sys, lane_emden_solver\n",
    "import numpy as np"
   ]
  },
  {
   "cell_type": "code",
   "execution_count": null,
   "metadata": {},
   "outputs": [],
   "source": [
    "# Thermodynamic functions at the center\n",
    "\n",
    "def density(M, R, n):\n",
    "    xi, y1, y2 = lane_emden_solver(n)\n",
    "    a_n = -xi[-1]/(3*y2[-1])\n",
    "    central_density = M/(4/3*np.pi*R**3) * a_n\n",
    "    density = central_density * y1**n\n",
    "\n",
    "    return density, central_density\n",
    "\n",
    "def pressure(G, M, R, n):\n",
    "    xi, y1, y2 = lane_emden_solver(n)\n",
    "    c_n = 1 / (4 * np.pi * (n+1) * y2[-1]**2)\n",
    "    central_pressure = (G*M**2)/R**4 * c_n\n",
    "    pressure = central_pressure * y1**(n+1)\n",
    "\n",
    "    return pressure, central_pressure\n",
    "\n",
    "def temperature(G, M, R, X, Z, R_g, n): # R_g = gas constant, G  (define both as global variables?)\n",
    "    xi, y1, y2 = lane_emden_solver(n)\n",
    "    mu = 4/(5*X-Z+3)\n",
    "    b_n = 1 / (n+1) * xi[-1] * (-y2[-1])\n",
    "    central_temperature = mu*G*M/(R_g*R) * b_n\n",
    "    temperature = central_temperature *  y1\n",
    "\n",
    "    return temperature, central_temperature"
   ]
  },
  {
   "cell_type": "code",
   "execution_count": null,
   "metadata": {},
   "outputs": [],
   "source": [
    "# General Thermodynamic functions\n",
    "\n",
    "def density(M, R, n):\n",
    "    c_rho = central_density(M,R,n)\n",
    "\n",
    "def pressure():\n",
    "\n",
    "def temperature():\n"
   ]
  },
  {
   "cell_type": "code",
   "execution_count": null,
   "metadata": {},
   "outputs": [],
   "source": []
  },
  {
   "cell_type": "code",
   "execution_count": null,
   "metadata": {},
   "outputs": [],
   "source": []
  }
 ],
 "metadata": {
  "kernelspec": {
   "display_name": "machinelearning",
   "language": "python",
   "name": "python3"
  },
  "language_info": {
   "codemirror_mode": {
    "name": "ipython",
    "version": 3
   },
   "file_extension": ".py",
   "mimetype": "text/x-python",
   "name": "python",
   "nbconvert_exporter": "python",
   "pygments_lexer": "ipython3",
   "version": "3.12.7"
  }
 },
 "nbformat": 4,
 "nbformat_minor": 2
}

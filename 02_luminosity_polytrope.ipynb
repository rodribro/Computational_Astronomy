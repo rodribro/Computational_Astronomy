{
 "cells": [
  {
   "cell_type": "markdown",
   "metadata": {},
   "source": [
    "### <b> Calculating the luminosity of a polytrope of index n </b>"
   ]
  },
  {
   "cell_type": "code",
   "execution_count": 1,
   "metadata": {},
   "outputs": [],
   "source": [
    "from polytrope_model import lane_emden_sys, lane_emden_solver\n",
    "import numpy as np"
   ]
  },
  {
   "cell_type": "code",
   "execution_count": 2,
   "metadata": {},
   "outputs": [],
   "source": [
    "# Chemical compostion (H and He)\n",
    "def chemical_composition(xi, X_s, r_c, d_c, R, t, t_tot, Z_s):\n",
    "\n",
    "    # Hidrogen\n",
    "    X_c = X_s - X_s * (t/t_tot)\n",
    "    X = X_c + (X_s - X_c)/(1+np.exp((r_c-xi)/(R*d_c)))\n",
    "    \n",
    "    # Helium\n",
    "    Y = 1 - Z_s - X\n",
    "\n",
    "    return X, Y"
   ]
  },
  {
   "cell_type": "code",
   "execution_count": 3,
   "metadata": {},
   "outputs": [],
   "source": [
    "# Thermodynamic functions (general and center)\n",
    "\n",
    "def density(M, R, n):\n",
    "    xi, y1, y2 = lane_emden_solver(n)\n",
    "    a_n = -xi[-1]/(3*y2[-1])\n",
    "    central_density = M/(4/3*np.pi*R**3) * a_n\n",
    "    density = central_density * y1**n\n",
    "\n",
    "    return density, central_density\n",
    "\n",
    "def pressure(G, M, R, n):\n",
    "    xi, y1, y2 = lane_emden_solver(n)\n",
    "    c_n = 1 / (4 * np.pi * (n+1) * y2[-1]**2)\n",
    "    central_pressure = (G*M**2)/R**4 * c_n\n",
    "    pressure = central_pressure * y1**(n+1)\n",
    "\n",
    "    return pressure, central_pressure\n",
    "\n",
    "def temperature(G, M, R, X, Z, R_g, n): # R_g = gas constant, G  (define both as global variables?)\n",
    "    xi, y1, y2 = lane_emden_solver(n)\n",
    "    mu = 4/(5*X-Z+3)\n",
    "    b_n = 1 / (n+1) * xi[-1] * (-y2[-1])\n",
    "    central_temperature = mu*G*M/(R_g*R) * b_n\n",
    "    temperature = central_temperature *  y1\n",
    "\n",
    "    return temperature, central_temperature"
   ]
  },
  {
   "cell_type": "code",
   "execution_count": 6,
   "metadata": {},
   "outputs": [],
   "source": [
    "def emissivity(rho, T, X, Z):\n",
    "    T6 = T/1e6\n",
    "\n",
    "    T_og_length = len(T6) # original length of T6 array\n",
    "    T_new_length = 1 + int(np.argwhere(T6<1e-3)[0]) # the remaining values of T6 might cause numerically unstable values of emissivity \n",
    "    size_dif = T_og_length - T_new_length\n",
    "\n",
    "    # Update array sizes for emissivity calculations\n",
    "    T6 = T6[:T_new_length]\n",
    "    X = X[:T_new_length]\n",
    "    rho = rho[:T_new_length]\n",
    "    e_0 = 2.38e106*X**2*rho\n",
    "\n",
    "    # Formula variables\n",
    "    alpha = 1.2e17*((1-X-Z)/(4*X))**2 * np.exp(-100*T6**(-1/3))\n",
    "    eps_0 = 2.38e6* X** 2 * rho* T6** (-2/3) * (1 + 0.0123*T6** (1/3) + 0.0109*T6** (2/3) + 0.00095*T6) * np.exp(-33.80*T6** (-1/3) + 0.27*rho** (1/2)* T6**(-3/2))\n",
    "    phi_alpha = 1-alpha + np.sqrt(alpha*(alpha+2))\n",
    "    F1 = (np.sqrt(alpha+2) - np.sqrt(alpha))/(np.sqrt(alpha+2) + 3*np.sqrt(alpha))\n",
    "    F2 = (1-F1)/(1+8.94e15 * (X/(4-3*X))* T6**(-1/6) * np.exp(-102.65*T6**(-1/3)))\n",
    "    F3 = 1-F1-F2\n",
    "\n",
    "    # Emissivity: proton-proton (e_pp), carbon-nitrogen-oxigen (e_cno)\n",
    "    e_pp = (eps_0/0.980) * phi_alpha * (0.980*F1 + 0.960*F2 + 0.721*F3)\n",
    "    e_cno = 8.67e27*Z*X*rho*T6** (-2/3) * (1 + 0.0027*T6** (1/3) - 0.00778*T6** (2/3) - 0.000149*T6) * np.exp(-152.28*T6**(-1/3))\n",
    "\n",
    "    # Fill the arrays back to their original sizes with zeros (further calculations won't be affected)\n",
    "    zeros = np.zeros(size_dif)\n",
    "    e_pp = np.concatenate((e_pp, zeros))\n",
    "    e_cno = np.concatenate((e_cno, zeros))\n",
    "\n",
    "    # Total emissivity\n",
    "    e_total = e_pp + e_cno\n",
    "\n",
    "    return e_total, e_pp, e_cno"
   ]
  },
  {
   "cell_type": "code",
   "execution_count": 5,
   "metadata": {},
   "outputs": [],
   "source": [
    "def luminosity():\n",
    "    return"
   ]
  },
  {
   "cell_type": "code",
   "execution_count": null,
   "metadata": {},
   "outputs": [],
   "source": []
  }
 ],
 "metadata": {
  "kernelspec": {
   "display_name": "machinelearning",
   "language": "python",
   "name": "python3"
  },
  "language_info": {
   "codemirror_mode": {
    "name": "ipython",
    "version": 3
   },
   "file_extension": ".py",
   "mimetype": "text/x-python",
   "name": "python",
   "nbconvert_exporter": "python",
   "pygments_lexer": "ipython3",
   "version": "3.12.7"
  }
 },
 "nbformat": 4,
 "nbformat_minor": 2
}

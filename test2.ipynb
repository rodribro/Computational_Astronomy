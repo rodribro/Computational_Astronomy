{
 "cells": [
  {
   "cell_type": "markdown",
   "metadata": {},
   "source": [
    "#### <b> Alpha Leonis </b>"
   ]
  },
  {
   "cell_type": "code",
   "execution_count": 1,
   "metadata": {},
   "outputs": [],
   "source": [
    "from polytrope_model import *\n",
    "import numpy as np"
   ]
  },
  {
   "cell_type": "code",
   "execution_count": 2,
   "metadata": {},
   "outputs": [],
   "source": [
    "#Sol\n",
    "M_sol = 1.988475e33\n",
    "L_sol = 3.828e33\n",
    "R_sol = 6.957e10\n",
    "Z_sol = 0.02857\n",
    "Y_sol = 0.28\n",
    "\n",
    "#%%\n",
    "# Epsilon Eridani\n",
    "M_e = 0.82 * M_sol\n",
    "dM_e = 0.02 * M_sol\n",
    "R_e = 0.738 * R_sol\n",
    "dR_e= 0.0003 * R_sol\n",
    "L_e = 0.32 * L_sol\n",
    "dL_e = 0.01 * L_sol\n",
    "metal_e = -0.08\n",
    "dmetal_e = 0.01\n",
    "Z_e = Z_sol*10**metal_e\n",
    "Y_e = 0.2423\n",
    "dY_e = 0.0054\n",
    "total_time_e = 2*4.6*M_e*(1/L_e)\n",
    "\n",
    "\n",
    "#Alpha Leonis\n",
    "M_a = 3.44 * M_sol\n",
    "dM_a = 0.045 * M_sol # -0.01, +0.08\n",
    "R_a =  3.65 * R_sol # 4.16 (equatorial) + 3.14 (polar) / 2\n",
    "dR_a = 0.05* M_sol # sqrt((0.08/2)^2 + (0.06/2)^2)\n",
    "L_a = 314 * L_sol\n",
    "dL_a = 36 * L_sol\n",
    "metal_a = 0.21\n",
    "dmetal_a = 0.05 # assumed value\n",
    "Z_a = Z_sol*10**metal_a\n",
    "Y_a = 0.2423\n",
    "dY_a = 0.0054\n",
    "total_time_a = 2*4.6*M_a*(1/L_a)\n"
   ]
  },
  {
   "cell_type": "code",
   "execution_count": 3,
   "metadata": {},
   "outputs": [],
   "source": [
    "def monte_carlo(M, dM, R, dR, L, dL, Z_X, dZ_X, Y, dY, r_n, d_c, tau, tau_t, N, L_sol,a,b):\n",
    "    nn = np.zeros(N)\n",
    "    Mm = M + dM*np.random.normal(0, 1, N)\n",
    "    Rr = R + dR*np.random.normal(0, 1, N)\n",
    "    Ll = L + dL*np.random.normal(0, 1, N)\n",
    "    Z_Xx = Z_X + dZ_X*np.random.normal(0, 1, N)\n",
    "    Yy = Y + dY*np.random.normal(0, 1, N)\n",
    "    for i in range(N):\n",
    "        print(i)\n",
    "        nn[i] = index(y, a, b, Mm[i], Ll[i], Yy[i], Z_Xx[i], Rr[i], r_n, d_c, tau, tau_t, L_sol)\n",
    "    return nn"
   ]
  },
  {
   "cell_type": "code",
   "execution_count": 4,
   "metadata": {},
   "outputs": [
    {
     "name": "stderr",
     "output_type": "stream",
     "text": [
      "/Users/rodrigocastro/Desktop/Computational_Astronomy/polytrope_model.py:36: ODEintWarning: Excess work done on this call (perhaps wrong Dfun type). Run with full_output = 1 to get quantitative information.\n",
      "  sol = odeint(lane_emden_sys, lane_em_0, xi_range, args=(n,), tfirst=True)\n"
     ]
    },
    {
     "data": {
      "text/plain": [
       "[<matplotlib.lines.Line2D at 0x12f334650>]"
      ]
     },
     "execution_count": 4,
     "metadata": {},
     "output_type": "execute_result"
    },
    {
     "data": {
      "image/png": "[encoded data removed]",
      "text/plain": [
       "<Figure size 640x480 with 1 Axes>"
      ]
     },
     "metadata": {},
     "output_type": "display_data"
    }
   ],
   "source": [
    "valores = np.linspace(0.7, 4.5, 100)\n",
    "Xs = (1-Y_a)/(1+Z_a)\n",
    "Z = 1-Y_a-Xs\n",
    "yy = [y(i, Xs, 0.2, 0.03, R_a, total_time_a/3, total_time_a, M_a, Z, L_sol, L_a) for i in valores]\n",
    "plt.plot(valores, yy)"
   ]
  },
  {
   "cell_type": "code",
   "execution_count": 5,
   "metadata": {},
   "outputs": [
    {
     "data": {
      "text/plain": [
       "[-6.267015459627789,\n",
       " -6.23948458416259,\n",
       " -6.210863015457668,\n",
       " -6.182118400784081,\n",
       " -6.152391825297658,\n",
       " -6.1226267569207735,\n",
       " -6.091984198425584,\n",
       " -6.06051512431147,\n",
       " -6.029140836999049,\n",
       " -5.99703857583703,\n",
       " -5.964267834117017,\n",
       " -5.930882246842776,\n",
       " -5.8969370648456065,\n",
       " -5.862485132506059,\n",
       " -5.8275785160322595,\n",
       " -5.792267493938981,\n",
       " -5.755834325907773,\n",
       " -5.719873002202495,\n",
       " -5.682907932978976,\n",
       " -5.645010047000686,\n",
       " -5.606987678730069,\n",
       " -5.568166138571721,\n",
       " -5.529325790184212,\n",
       " -5.489812263086505,\n",
       " -5.449694968052989,\n",
       " -5.408370485875216,\n",
       " -5.367265303229021,\n",
       " -5.325761938220367,\n",
       " -5.283278110401018,\n",
       " -5.240545806725167,\n",
       " -5.19700103716819,\n",
       " -5.152736027048254,\n",
       " -5.10843997748684,\n",
       " -5.062985939071142,\n",
       " -5.017650672626561,\n",
       " -4.970773001708207,\n",
       " -4.924178448351977,\n",
       " -4.87681191704286,\n",
       " -4.828235023742387,\n",
       " -4.779647818686439,\n",
       " -4.730073773694592,\n",
       " -4.680150626498596,\n",
       " -4.629476407910725,\n",
       " -4.577671758704135,\n",
       " -4.525855962970803,\n",
       " -4.4731621889375175,\n",
       " -4.419267283625828,\n",
       " -4.365245760686764,\n",
       " -4.310305028820532,\n",
       " -4.25417154147386,\n",
       " -4.197868771593909,\n",
       " -4.140268592755249,\n",
       " -4.082378496429383,\n",
       " -4.0231390446485005,\n",
       " -3.963149565816128,\n",
       " -3.902205661748928,\n",
       " -3.8405028780581945,\n",
       " -3.7778667074541534,\n",
       " -3.7141499687711788,\n",
       " -3.6492290092049346,\n",
       " -3.583338913262972,\n",
       " -3.516377436685927,\n",
       " -3.447937658594846,\n",
       " -3.3785962632050373,\n",
       " -3.3076594405163253,\n",
       " -3.235389160416857,\n",
       " -3.161432278808327,\n",
       " -3.085728250626269,\n",
       " -3.008179018837722,\n",
       " -2.9280772759491986,\n",
       " -2.8449208089257514,\n",
       " -2.758600039680064,\n",
       " -2.6676984678724374,\n",
       " -2.571022128137747,\n",
       " -2.4669468737794698,\n",
       " -2.352431909397582,\n",
       " -2.2250218893614795,\n",
       " -2.080637285293106,\n",
       " -1.9154967895583144,\n",
       " -1.7262261223122857,\n",
       " -1.5110983986229793,\n",
       " -1.2696578149829614,\n",
       " -1.004434179335013,\n",
       " -0.7180199129137075,\n",
       " -0.41273401840278245,\n",
       " -0.09114331767027496,\n",
       " 0.24502394499413443,\n",
       " 0.59389045766124,\n",
       " 0.9557713022600659,\n",
       " 1.3302216359356251,\n",
       " 1.7174269620149751,\n",
       " 2.1177916046980965,\n",
       " 2.532215831742501,\n",
       " 2.9621758818185495,\n",
       " 3.408284056167434,\n",
       " 3.872276473583154,\n",
       " 4.356181786202693,\n",
       " 4.861543765639862,\n",
       " 5.390957955348149,\n",
       " 5.947729542082102]"
      ]
     },
     "execution_count": 5,
     "metadata": {},
     "output_type": "execute_result"
    }
   ],
   "source": [
    "yy"
   ]
  },
  {
   "cell_type": "code",
   "execution_count": 6,
   "metadata": {},
   "outputs": [
    {
     "data": {
      "text/plain": [
       "3.973196490594592"
      ]
     },
     "execution_count": 6,
     "metadata": {},
     "output_type": "execute_result"
    }
   ],
   "source": [
    "poly_index_a = index(y, 1.2, 4.5, M_a, L_a, Y_a, Z_a, R_a, L_sol, 0.2, 0.03, total_time_a/3, total_time_a)\n",
    "poly_index_a"
   ]
  },
  {
   "cell_type": "code",
   "execution_count": 7,
   "metadata": {},
   "outputs": [],
   "source": [
    "Xs = (1-Y_sol)/(1+Z_sol)\n",
    "Z = 1-Y_sol-Xs\n",
    "xi, y1, y2 = lane_emden_solver(poly_index_a)\n",
    "X = chemical_composition(xi, Xs, 0.2, 0.03, total_time_e/2, total_time_e)"
   ]
  },
  {
   "cell_type": "code",
   "execution_count": 8,
   "metadata": {},
   "outputs": [
    {
     "data": {
      "text/plain": [
       "(array([0.00000000e+00, 1.00000000e-07, 4.00103999e-04, ...,\n",
       "        9.53529543e+00, 9.53569543e+00, 9.53580443e+00]),\n",
       " array([1.00000000e+00, 1.00000000e+00, 9.99999953e-01, ...,\n",
       "        1.05830575e-05, 2.26603623e-06, 0.00000000e+00]),\n",
       " array([ 0.00000000e+00, -1.00000000e-07, -1.33367985e-04, ...,\n",
       "        -2.07932174e-02, -2.07914729e-02, -2.07897287e-02]))"
      ]
     },
     "execution_count": 8,
     "metadata": {},
     "output_type": "execute_result"
    }
   ],
   "source": [
    "lane_emden_solver(3.5)"
   ]
  },
  {
   "cell_type": "code",
   "execution_count": 9,
   "metadata": {},
   "outputs": [
    {
     "name": "stdout",
     "output_type": "stream",
     "text": [
      "0\n"
     ]
    },
    {
     "name": "stderr",
     "output_type": "stream",
     "text": [
      "/Users/rodrigocastro/Desktop/Computational_Astronomy/polytrope_model.py:171: RuntimeWarning: divide by zero encountered in log10\n",
      "  y = np.log10(lumin/(L/L_sol)) # calculates the index in relativa units relative to the sun's luminosity\n"
     ]
    },
    {
     "ename": "ValueError",
     "evalue": "f(a) and f(b) must have different signs",
     "output_type": "error",
     "traceback": [
      "\u001b[0;31m---------------------------------------------------------------------------\u001b[0m",
      "\u001b[0;31mValueError\u001b[0m                                Traceback (most recent call last)",
      "Cell \u001b[0;32mIn[9], line 1\u001b[0m\n\u001b[0;32m----> 1\u001b[0m nn \u001b[38;5;241m=\u001b[39m \u001b[43mmonte_carlo\u001b[49m\u001b[43m(\u001b[49m\u001b[43mM_a\u001b[49m\u001b[43m,\u001b[49m\u001b[43m \u001b[49m\u001b[43mdM_a\u001b[49m\u001b[43m,\u001b[49m\u001b[43m \u001b[49m\u001b[43mR_a\u001b[49m\u001b[43m,\u001b[49m\u001b[43m \u001b[49m\u001b[43mdR_a\u001b[49m\u001b[43m,\u001b[49m\u001b[43m \u001b[49m\u001b[43mL_a\u001b[49m\u001b[43m,\u001b[49m\u001b[43m \u001b[49m\u001b[43mdL_a\u001b[49m\u001b[43m,\u001b[49m\u001b[43m \u001b[49m\u001b[43mZ_a\u001b[49m\u001b[43m,\u001b[49m\u001b[43m \u001b[49m\u001b[43mdmetal_a\u001b[49m\u001b[43m,\u001b[49m\u001b[43m \u001b[49m\u001b[43mY_a\u001b[49m\u001b[43m,\u001b[49m\u001b[43m \u001b[49m\u001b[43mdY_a\u001b[49m\u001b[43m,\u001b[49m\u001b[43m \u001b[49m\u001b[38;5;241;43m0.2\u001b[39;49m\u001b[43m,\u001b[49m\u001b[43m \u001b[49m\u001b[38;5;241;43m0.03\u001b[39;49m\u001b[43m,\u001b[49m\u001b[43m \u001b[49m\u001b[43mtotal_time_a\u001b[49m\u001b[43m \u001b[49m\u001b[38;5;241;43m/\u001b[39;49m\u001b[43m \u001b[49m\u001b[38;5;241;43m2\u001b[39;49m\u001b[43m,\u001b[49m\u001b[43m \u001b[49m\u001b[43mtotal_time_a\u001b[49m\u001b[43m,\u001b[49m\u001b[43m \u001b[49m\u001b[38;5;241;43m1000\u001b[39;49m\u001b[43m,\u001b[49m\u001b[43m \u001b[49m\u001b[43mL_sol\u001b[49m\u001b[43m,\u001b[49m\u001b[43m \u001b[49m\u001b[43ma\u001b[49m\u001b[38;5;241;43m=\u001b[39;49m\u001b[38;5;241;43m1\u001b[39;49m\u001b[43m,\u001b[49m\u001b[43m \u001b[49m\u001b[43mb\u001b[49m\u001b[38;5;241;43m=\u001b[39;49m\u001b[38;5;241;43m4.5\u001b[39;49m\u001b[43m)\u001b[49m\n",
      "Cell \u001b[0;32mIn[3], line 10\u001b[0m, in \u001b[0;36mmonte_carlo\u001b[0;34m(M, dM, R, dR, L, dL, Z_X, dZ_X, Y, dY, r_n, d_c, tau, tau_t, N, L_sol, a, b)\u001b[0m\n\u001b[1;32m      8\u001b[0m \u001b[38;5;28;01mfor\u001b[39;00m i \u001b[38;5;129;01min\u001b[39;00m \u001b[38;5;28mrange\u001b[39m(N):\n\u001b[1;32m      9\u001b[0m     \u001b[38;5;28mprint\u001b[39m(i)\n\u001b[0;32m---> 10\u001b[0m     nn[i] \u001b[38;5;241m=\u001b[39m \u001b[43mindex\u001b[49m\u001b[43m(\u001b[49m\u001b[43my\u001b[49m\u001b[43m,\u001b[49m\u001b[43m \u001b[49m\u001b[43ma\u001b[49m\u001b[43m,\u001b[49m\u001b[43m \u001b[49m\u001b[43mb\u001b[49m\u001b[43m,\u001b[49m\u001b[43m \u001b[49m\u001b[43mMm\u001b[49m\u001b[43m[\u001b[49m\u001b[43mi\u001b[49m\u001b[43m]\u001b[49m\u001b[43m,\u001b[49m\u001b[43m \u001b[49m\u001b[43mLl\u001b[49m\u001b[43m[\u001b[49m\u001b[43mi\u001b[49m\u001b[43m]\u001b[49m\u001b[43m,\u001b[49m\u001b[43m \u001b[49m\u001b[43mYy\u001b[49m\u001b[43m[\u001b[49m\u001b[43mi\u001b[49m\u001b[43m]\u001b[49m\u001b[43m,\u001b[49m\u001b[43m \u001b[49m\u001b[43mZ_Xx\u001b[49m\u001b[43m[\u001b[49m\u001b[43mi\u001b[49m\u001b[43m]\u001b[49m\u001b[43m,\u001b[49m\u001b[43m \u001b[49m\u001b[43mRr\u001b[49m\u001b[43m[\u001b[49m\u001b[43mi\u001b[49m\u001b[43m]\u001b[49m\u001b[43m,\u001b[49m\u001b[43m \u001b[49m\u001b[43mr_n\u001b[49m\u001b[43m,\u001b[49m\u001b[43m \u001b[49m\u001b[43md_c\u001b[49m\u001b[43m,\u001b[49m\u001b[43m \u001b[49m\u001b[43mtau\u001b[49m\u001b[43m,\u001b[49m\u001b[43m \u001b[49m\u001b[43mtau_t\u001b[49m\u001b[43m,\u001b[49m\u001b[43m \u001b[49m\u001b[43mL_sol\u001b[49m\u001b[43m)\u001b[49m\n\u001b[1;32m     11\u001b[0m \u001b[38;5;28;01mreturn\u001b[39;00m nn\n",
      "File \u001b[0;32m~/Desktop/Computational_Astronomy/polytrope_model.py:177\u001b[0m, in \u001b[0;36mindex\u001b[0;34m(f, a, b, M, L, Y, Z_X, R, L_sol, r_c, d_c, time, total_time)\u001b[0m\n\u001b[1;32m    175\u001b[0m X_s \u001b[38;5;241m=\u001b[39m (\u001b[38;5;241m1\u001b[39m\u001b[38;5;241m-\u001b[39mY)\u001b[38;5;241m/\u001b[39m(\u001b[38;5;241m1\u001b[39m\u001b[38;5;241m+\u001b[39mZ_X)\n\u001b[1;32m    176\u001b[0m Z \u001b[38;5;241m=\u001b[39m \u001b[38;5;241m1\u001b[39m\u001b[38;5;241m-\u001b[39mY\u001b[38;5;241m-\u001b[39mX_s \n\u001b[0;32m--> 177\u001b[0m index \u001b[38;5;241m=\u001b[39m \u001b[43mbisect\u001b[49m\u001b[43m(\u001b[49m\u001b[43mf\u001b[49m\u001b[43m,\u001b[49m\u001b[43m \u001b[49m\u001b[43ma\u001b[49m\u001b[43m,\u001b[49m\u001b[43m \u001b[49m\u001b[43mb\u001b[49m\u001b[43m,\u001b[49m\u001b[43m \u001b[49m\u001b[43margs\u001b[49m\u001b[38;5;241;43m=\u001b[39;49m\u001b[43m(\u001b[49m\u001b[43mX_s\u001b[49m\u001b[43m,\u001b[49m\u001b[43m \u001b[49m\u001b[43mr_c\u001b[49m\u001b[43m,\u001b[49m\u001b[43m \u001b[49m\u001b[43md_c\u001b[49m\u001b[43m,\u001b[49m\u001b[43m \u001b[49m\u001b[43mR\u001b[49m\u001b[43m,\u001b[49m\u001b[43m \u001b[49m\u001b[43mtime\u001b[49m\u001b[43m,\u001b[49m\u001b[43m \u001b[49m\u001b[43mtotal_time\u001b[49m\u001b[43m,\u001b[49m\u001b[43m \u001b[49m\u001b[43mM\u001b[49m\u001b[43m,\u001b[49m\u001b[43m \u001b[49m\u001b[43mZ\u001b[49m\u001b[43m,\u001b[49m\u001b[43m \u001b[49m\u001b[43mL_sol\u001b[49m\u001b[43m,\u001b[49m\u001b[43m \u001b[49m\u001b[43mL\u001b[49m\u001b[43m)\u001b[49m\u001b[43m)\u001b[49m\n\u001b[1;32m    178\u001b[0m \u001b[38;5;28;01mreturn\u001b[39;00m index\n",
      "File \u001b[0;32m/opt/anaconda3/envs/machinelearning/lib/python3.12/site-packages/scipy/optimize/_zeros_py.py:577\u001b[0m, in \u001b[0;36mbisect\u001b[0;34m(f, a, b, args, xtol, rtol, maxiter, full_output, disp)\u001b[0m\n\u001b[1;32m    575\u001b[0m     \u001b[38;5;28;01mraise\u001b[39;00m \u001b[38;5;167;01mValueError\u001b[39;00m(\u001b[38;5;124mf\u001b[39m\u001b[38;5;124m\"\u001b[39m\u001b[38;5;124mrtol too small (\u001b[39m\u001b[38;5;132;01m{\u001b[39;00mrtol\u001b[38;5;132;01m:\u001b[39;00m\u001b[38;5;124mg\u001b[39m\u001b[38;5;132;01m}\u001b[39;00m\u001b[38;5;124m < \u001b[39m\u001b[38;5;132;01m{\u001b[39;00m_rtol\u001b[38;5;132;01m:\u001b[39;00m\u001b[38;5;124mg\u001b[39m\u001b[38;5;132;01m}\u001b[39;00m\u001b[38;5;124m)\u001b[39m\u001b[38;5;124m\"\u001b[39m)\n\u001b[1;32m    576\u001b[0m f \u001b[38;5;241m=\u001b[39m _wrap_nan_raise(f)\n\u001b[0;32m--> 577\u001b[0m r \u001b[38;5;241m=\u001b[39m \u001b[43m_zeros\u001b[49m\u001b[38;5;241;43m.\u001b[39;49m\u001b[43m_bisect\u001b[49m\u001b[43m(\u001b[49m\u001b[43mf\u001b[49m\u001b[43m,\u001b[49m\u001b[43m \u001b[49m\u001b[43ma\u001b[49m\u001b[43m,\u001b[49m\u001b[43m \u001b[49m\u001b[43mb\u001b[49m\u001b[43m,\u001b[49m\u001b[43m \u001b[49m\u001b[43mxtol\u001b[49m\u001b[43m,\u001b[49m\u001b[43m \u001b[49m\u001b[43mrtol\u001b[49m\u001b[43m,\u001b[49m\u001b[43m \u001b[49m\u001b[43mmaxiter\u001b[49m\u001b[43m,\u001b[49m\u001b[43m \u001b[49m\u001b[43margs\u001b[49m\u001b[43m,\u001b[49m\u001b[43m \u001b[49m\u001b[43mfull_output\u001b[49m\u001b[43m,\u001b[49m\u001b[43m \u001b[49m\u001b[43mdisp\u001b[49m\u001b[43m)\u001b[49m\n\u001b[1;32m    578\u001b[0m \u001b[38;5;28;01mreturn\u001b[39;00m results_c(full_output, r, \u001b[38;5;124m\"\u001b[39m\u001b[38;5;124mbisect\u001b[39m\u001b[38;5;124m\"\u001b[39m)\n",
      "\u001b[0;31mValueError\u001b[0m: f(a) and f(b) must have different signs"
     ]
    }
   ],
   "source": [
    "nn = monte_carlo(M_a, dM_a, R_a, dR_a, L_a, dL_a, Z_a, dmetal_a, Y_a, dY_a, 0.2, 0.03, total_time_a / 2, total_time_a, 1000, L_sol, a=1, b=4.5)"
   ]
  },
  {
   "cell_type": "code",
   "execution_count": null,
   "metadata": {},
   "outputs": [],
   "source": []
  }
 ],
 "metadata": {
  "kernelspec": {
   "display_name": "machinelearning",
   "language": "python",
   "name": "python3"
  },
  "language_info": {
   "codemirror_mode": {
    "name": "ipython",
    "version": 3
   },
   "file_extension": ".py",
   "mimetype": "text/x-python",
   "name": "python",
   "nbconvert_exporter": "python",
   "pygments_lexer": "ipython3",
   "version": "3.12.7"
  }
 },
 "nbformat": 4,
 "nbformat_minor": 2
}
